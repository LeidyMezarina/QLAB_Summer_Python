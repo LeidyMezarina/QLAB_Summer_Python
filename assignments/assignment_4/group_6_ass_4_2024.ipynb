{
 "cells": [
  {
   "cell_type": "code",
   "execution_count": 1,
   "metadata": {},
   "outputs": [
    {
     "data": {
      "text/html": [
       "\n",
       "<style>\n",
       "    div#notebook-container    { width: 95%; }\n",
       "    div#menubar-container     { width: 65%; }\n",
       "    div#maintoolbar-container { width: 99%; }a\n",
       "</style>\n"
      ],
      "text/plain": [
       "<IPython.core.display.HTML object>"
      ]
     },
     "metadata": {},
     "output_type": "display_data"
    }
   ],
   "source": [
    "from IPython.display import display, HTML\n",
    "\n",
    "display(HTML(data=\"\"\"\n",
    "<style>\n",
    "    div#notebook-container    { width: 95%; }\n",
    "    div#menubar-container     { width: 65%; }\n",
    "    div#maintoolbar-container { width: 99%; }a\n",
    "</style>\n",
    "\"\"\"))"
   ]
  },
  {
   "cell_type": "code",
   "execution_count": null,
   "metadata": {},
   "outputs": [],
   "source": [
    "!pip install folium\n",
    "!pip install geopandas"
   ]
  },
  {
   "cell_type": "code",
   "execution_count": null,
   "metadata": {},
   "outputs": [],
   "source": [
    "import pandas as pd\n",
    "#from pandas import Series, DataFrame\n",
    "import numpy as np\n",
    "import matplotlib.pyplot as plt \n",
    "import chardet\n",
    "\n",
    "import folium as fm\n",
    "from folium import Marker, GeoJson\n",
    "from folium.plugins import MarkerCluster, HeatMap, StripePattern\n",
    "\n",
    "import geopandas as gpd\n",
    "from geopandas import GeoSeries\n",
    "from shapely.geometry import Point, LineString\n",
    "\n",
    "\n",
    "import branca as br "
   ]
  },
  {
   "cell_type": "code",
   "execution_count": null,
   "metadata": {},
   "outputs": [],
   "source": [
    "# Get data of labor\n",
    "sex_work = pd.read_stata( r'C:\\Users\\HP\\Documents\\GitHub\\QLAB_Summer_Python\\_data\\8_trab_sex_20.dta' )\n",
    "sex_work[ 'dpt_code' ] = sex_work.cod_ubigeo.str[ :2 ].copy()\n",
    "sex_work[ 'prov_code' ] = sex_work.cod_ubigeo.str[ :4 ].copy()\n",
    "sex_work.head()"
   ]
  },
  {
   "cell_type": "code",
   "execution_count": null,
   "metadata": {},
   "outputs": [],
   "source": [
    "# Sex work\n",
    "# Me quedo con la data de mujeres\n",
    "women_work = sex_work[ sex_work.sex == 'Mujer' ].copy().reset_index( drop = True )\n",
    "women_work.head()"
   ]
  },
  {
   "cell_type": "code",
   "execution_count": null,
   "metadata": {},
   "outputs": [],
   "source": [
    "# get data from lima\n",
    "## Convirtiendo la columna llamada month en un objeto de fecha y hora\n",
    "women_work[ 'month' ] = pd.to_datetime( women_work.month , format = '%B' ) \\\n",
    "                                    .dt.strftime( '%m' ) \\\n",
    "                                    .astype( int )"
   ]
  },
  {
   "cell_type": "code",
   "execution_count": null,
   "metadata": {},
   "outputs": [],
   "source": [
    "## Sort by department and month (quedandonos con la info departamental y los meses, luego actualizando en la misma base original)\n",
    "women_work.sort_values([ 'dpt_code', 'month'], inplace = True )\n",
    "\n",
    "# Get the total number of women workers by dpt (sumando empl, para esto se agrupan teniendo en cuenta dpt y month)\n",
    "dpt_women_work = women_work.groupby( [ 'dpt_code', 'month'], as_index = False )[['empl']] \\\n",
    "                            .sum() \\\n",
    "                            .rename( columns = {'empl' :'women_empl'})\n",
    "\n",
    "# Sort by dpt code and month (ordenar)\n",
    "dpt_women_work.sort_values([ 'dpt_code', 'month'], inplace = True )\n",
    "dpt_women_work.head()"
   ]
  },
  {
   "cell_type": "code",
   "execution_count": null,
   "metadata": {},
   "outputs": [],
   "source": [
    "# consiguiendo el promedio de mujeres empleadas por departamento\n",
    "df2 = dpt_women_work.groupby( ['dpt_code'],as_index = False )[['women_empl']].mean()\n",
    "df2.head(25)"
   ]
  },
  {
   "cell_type": "code",
   "execution_count": null,
   "metadata": {},
   "outputs": [],
   "source": [
    "# Starting with the Shapefile\n",
    "\n",
    "base = open(r'C:\\Users\\HP\\Documents\\GitHub\\QLAB_Summer_Python\\_data\\INEI_LIMITE_DEPARTAMENTAL\\INEI_LIMITE_DEPARTAMENTAL.shp', 'rb').read()\n",
    "det = chardet.detect(base)\n",
    "charenc = det['encoding']\n",
    "\n",
    "dpt_shp = gpd.read_file( r'C:\\Users\\HP\\Documents\\GitHub\\QLAB_Summer_Python\\_data\\INEI_LIMITE_DEPARTAMENTAL\\INEI_LIMITE_DEPARTAMENTAL.shp', encoding = charenc)\n",
    "dpt_shp\n"
   ]
  },
  {
   "cell_type": "code",
   "execution_count": null,
   "metadata": {},
   "outputs": [],
   "source": [
    "# Mergeamos nuestra base de datos del promedio de mujeres empleadas por departamentos con el shapefile, la columna en común es dpt_code)\n",
    "df3 = dpt_shp.merge( df2, left_on = 'CCDD', right_on = 'dpt_code'  )\n",
    "df3"
   ]
  },
  {
   "cell_type": "code",
   "execution_count": null,
   "metadata": {},
   "outputs": [],
   "source": [
    "# First Graph\n",
    "df3['women_empl'] = df3['women_empl'].astype(str).astype(float)\n",
    "df2['women_empl'] = df2['women_empl'].astype(str).astype(float)\n",
    "\n",
    "\n",
    "# Se usarán las coordenadas de palacio de gobierno como centroide\n",
    "\n",
    "lat_palacio = -12.0757538\n",
    "long_palacio = -76.9863174\n",
    "zoom_start = 5\n",
    "\n",
    "z = fm.Map(location = [lat_palacio, long_palacio], tiles='cartodbpositron', zoom_start = zoom_start)\n",
    "\n",
    "\n",
    "fm.Choropleth(\n",
    "    geo_data=df3,\n",
    "    data=df2,\n",
    "    columns=['dpt_code', 'women_empl'],\n",
    "    key_on=\"feature.properties.dpt_code\",\n",
    "    fill_color=\"Reds\",\n",
    "    fill_opacity=0.8,\n",
    "    ).add_to(z)\n",
    "\n",
    "z"
   ]
  },
  {
   "cell_type": "code",
   "execution_count": null,
   "metadata": {},
   "outputs": [],
   "source": [
    "# Second Graph\n",
    "df3['women_empl'] = df3['women_empl'].astype(str).astype(float)\n",
    "df2['women_empl'] = df2['women_empl'].astype(str).astype(float)\n",
    "\n",
    "\n",
    "# Se usarán las coordenadas de palacio de gobierno como centroide\n",
    "\n",
    "lat_palacio = -12.0757538\n",
    "long_palacio = -76.9863174\n",
    "zoom_start = 5\n",
    "\n",
    "z2 = fm.Map(location = [lat_palacio, long_palacio], tiles='cartodbpositron', zoom_start = zoom_start)\n",
    "\n",
    "\n",
    "choropleth=fm.Choropleth(\n",
    "    geo_data=df3,\n",
    "    data=df2,\n",
    "    columns=['dpt_code', 'women_empl'],\n",
    "    key_on=\"feature.properties.dpt_code\",\n",
    "    fill_color=\"Reds\",\n",
    "    fill_opacity=0.8,\n",
    "    legend_name= \"Number of Employers\",\n",
    "    bins = [675.333333, 20000, 40000, 60000, 100000, 656477.250000]\n",
    "    ).add_to(z2)\n",
    "\n",
    "choropleth.geojson.add_child(fm.features.GeoJsonTooltip(['dpt_code', 'women_empl']))\n",
    "\n",
    "z2"
   ]
  }
 ],
 "metadata": {
  "hide_input": false,
  "kernelspec": {
   "display_name": "Python 3 (ipykernel)",
   "language": "python",
   "name": "python3"
  },
  "language_info": {
   "codemirror_mode": {
    "name": "ipython",
    "version": 3
   },
   "file_extension": ".py",
   "mimetype": "text/x-python",
   "name": "python",
   "nbconvert_exporter": "python",
   "pygments_lexer": "ipython3",
   "version": "3.11.5"
  },
  "toc": {
   "base_numbering": 1,
   "nav_menu": {},
   "number_sections": true,
   "sideBar": true,
   "skip_h1_title": false,
   "title_cell": "Table of Contents",
   "title_sidebar": "Contents",
   "toc_cell": false,
   "toc_position": {},
   "toc_section_display": true,
   "toc_window_display": false
  }
 },
 "nbformat": 4,
 "nbformat_minor": 4
}
