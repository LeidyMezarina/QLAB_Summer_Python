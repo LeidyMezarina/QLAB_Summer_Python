{
 "cells": [
  {
   "cell_type": "code",
   "execution_count": 1,
   "metadata": {},
   "outputs": [
    {
     "data": {
      "text/html": [
       "\n",
       "<style>\n",
       "    div#notebook-container    { width: 95%; }\n",
       "    div#menubar-container     { width: 65%; }\n",
       "    div#maintoolbar-container { width: 99%; }a\n",
       "</style>\n"
      ],
      "text/plain": [
       "<IPython.core.display.HTML object>"
      ]
     },
     "metadata": {},
     "output_type": "display_data"
    }
   ],
   "source": [
    "from IPython.display import display, HTML\n",
    "\n",
    "display(HTML(data=\"\"\"\n",
    "<style>\n",
    "    div#notebook-container    { width: 95%; }\n",
    "    div#menubar-container     { width: 65%; }\n",
    "    div#maintoolbar-container { width: 99%; }a\n",
    "</style>\n",
    "\"\"\"))"
   ]
  },
  {
   "cell_type": "code",
   "execution_count": null,
   "metadata": {},
   "outputs": [],
   "source": [
    "!pip install folium\n",
    "!pip install geopandas"
   ]
  },
  {
   "cell_type": "code",
   "execution_count": null,
   "metadata": {},
   "outputs": [],
   "source": [
    "import pandas as pd\n",
    "#from pandas import Series, DataFrame\n",
    "import numpy as np\n",
    "import matplotlib.pyplot as plt \n",
    "import chardet\n",
    "\n",
    "import folium as fm\n",
    "from folium import Marker, GeoJson\n",
    "from folium.plugins import MarkerCluster, HeatMap, StripePattern\n",
    "\n",
    "import geopandas as gpd\n",
    "from geopandas import GeoSeries\n",
    "from shapely.geometry import Point, LineString\n",
    "\n",
    "\n",
    "import branca as br "
   ]
  },
  {
   "cell_type": "code",
   "execution_count": null,
   "metadata": {},
   "outputs": [],
   "source": [
    "# Get data of labor\n",
    "sex_work = pd.read_stata( r'C:\\Users\\HP\\Documents\\GitHub\\QLAB_Summer_Python\\_data\\8_trab_sex_20.dta' )\n",
    "sex_work[ 'dpt_code' ] = sex_work.cod_ubigeo.str[ :2 ].copy()\n",
    "sex_work[ 'prov_code' ] = sex_work.cod_ubigeo.str[ :4 ].copy()\n",
    "sex_work.head()"
   ]
  },
  {
   "cell_type": "code",
   "execution_count": null,
   "metadata": {},
   "outputs": [],
   "source": [
    "# Sex work\n",
    "# Me quedo con la data de mujeres\n",
    "women_work = sex_work[ sex_work.sex == 'Mujer' ].copy().reset_index( drop = True )\n",
    "women_work.head()"
   ]
  },
  {
   "cell_type": "code",
   "execution_count": null,
   "metadata": {},
   "outputs": [],
   "source": [
    "# get data from lima\n",
    "## Convirtiendo la columna llamada month en un objeto de fecha y hora\n",
    "women_work[ 'month' ] = pd.to_datetime( women_work.month , format = '%B' ) \\\n",
    "                                    .dt.strftime( '%m' ) \\\n",
    "                                    .astype( int )"
   ]
  },
  {
   "cell_type": "code",
   "execution_count": null,
   "metadata": {},
   "outputs": [],
   "source": [
    "## Sort by department and month (quedandonos con la info departamental y los meses, luego actualizando en la misma base original)\n",
    "women_work.sort_values([ 'dpt_code', 'month'], inplace = True )\n",
    "\n",
    "# Get the total number of women workers by dpt (sumando empl, para esto se agrupan teniendo en cuenta dpt y month)\n",
    "dpt_women_work = women_work.groupby( [ 'dpt_code', 'month'], as_index = False )[['empl']] \\\n",
    "                            .sum() \\\n",
    "                            .rename( columns = {'empl' :'women_empl'})\n",
    "\n",
    "# Sort by dpt code and month (ordenar)\n",
    "dpt_women_work.sort_values([ 'dpt_code', 'month'], inplace = True )\n",
    "dpt_women_work.head()"
   ]
  },
  {
   "cell_type": "code",
   "execution_count": null,
   "metadata": {},
   "outputs": [],
   "source": [
    "# consiguiendo el promedio de mujeres empleadas por departamento\n",
    "df2 = dpt_women_work.groupby( ['dpt_code'],as_index = False )[['women_empl']].mean()\n",
    "df2.head(25)"
   ]
  },
  {
   "cell_type": "code",
   "execution_count": null,
   "metadata": {},
   "outputs": [],
   "source": [
    "# Starting with the Shapefile\n",
    "\n",
    "base = open(r'C:\\Users\\HP\\Documents\\GitHub\\QLAB_Summer_Python\\_data\\INEI_LIMITE_DEPARTAMENTAL\\INEI_LIMITE_DEPARTAMENTAL.shp', 'rb').read()\n",
    "det = chardet.detect(base)\n",
    "charenc = det['encoding']\n",
    "\n",
    "dpt_shp = gpd.read_file( r'C:\\Users\\HP\\Documents\\GitHub\\QLAB_Summer_Python\\_data\\INEI_LIMITE_DEPARTAMENTAL\\INEI_LIMITE_DEPARTAMENTAL.shp', encoding = charenc)\n",
    "dpt_shp\n"
   ]
  },
  {
   "cell_type": "code",
   "execution_count": null,
   "metadata": {},
   "outputs": [],
   "source": [
    "# Mergeamos nuestra base de datos del promedio de mujeres empleadas por departamentos con el shapefile, la columna en común es dpt_code)\n",
    "df3 = dpt_shp.merge( df2, left_on = 'CCDD', right_on = 'dpt_code'  )\n",
    "df3"
   ]
  },
  {
   "cell_type": "code",
   "execution_count": null,
   "metadata": {},
   "outputs": [],
   "source": [
    "# First Graph\n",
    "df3['women_empl'] = df3['women_empl'].astype(str).astype(float)\n",
    "df2['women_empl'] = df2['women_empl'].astype(str).astype(float)\n",
    "\n",
    "\n",
    "# Se usarán las coordenadas de palacio de gobierno como centroide\n",
    "\n",
    "lat_palacio = -12.0757538\n",
    "long_palacio = -76.9863174\n",
    "zoom_start = 5\n",
    "\n",
    "z = fm.Map(location = [lat_palacio, long_palacio], tiles='cartodbpositron', zoom_start = zoom_start)\n",
    "\n",
    "\n",
    "fm.Choropleth(\n",
    "    geo_data=df3,\n",
    "    data=df2,\n",
    "    columns=['dpt_code', 'women_empl'],\n",
    "    key_on=\"feature.properties.dpt_code\",\n",
    "    fill_color=\"Reds\",\n",
    "    fill_opacity=0.8,\n",
    "    ).add_to(z)\n",
    "\n",
    "z"
   ]
  },
  {
   "cell_type": "code",
   "execution_count": null,
   "metadata": {},
   "outputs": [],
   "source": [
    "# Second Graph\n",
    "df3['women_empl'] = df3['women_empl'].astype(str).astype(float)\n",
    "df2['women_empl'] = df2['women_empl'].astype(str).astype(float)\n",
    "\n",
    "\n",
    "# Se usarán las coordenadas de palacio de gobierno como centroide\n",
    "\n",
    "lat_palacio = -12.0757538\n",
    "long_palacio = -76.9863174\n",
    "zoom_start = 5\n",
    "\n",
    "z2 = fm.Map(location = [lat_palacio, long_palacio], tiles='cartodbpositron', zoom_start = zoom_start)\n",
    "\n",
    "\n",
    "choropleth=fm.Choropleth(\n",
    "    geo_data=df3,\n",
    "    data=df2,\n",
    "    columns=['dpt_code', 'women_empl'],\n",
    "    key_on=\"feature.properties.dpt_code\",\n",
    "    fill_color=\"Reds\",\n",
    "    fill_opacity=0.8,\n",
    "    legend_name= \"Number of Employers\",\n",
    "    bins = [675.333333, 20000, 40000, 60000, 100000, 656477.250000]\n",
    "    ).add_to(z2)\n",
    "\n",
    "choropleth.geojson.add_child(fm.features.GeoJsonTooltip(['dpt_code', 'women_empl']))\n",
    "\n",
    "z2"
   ]
  },
  {
   "cell_type": "code",
   "execution_count": null,
   "metadata": {},
   "outputs": [],
   "source": [
    "# Supongamos que deseas eliminar la fila con índice 14 (0-indexed)\n",
    "index_to_remove = 14\n",
    "\n",
    "# Elimina la fila especificada por el índice\n",
    "df4 = df3.drop(index=index_to_remove)\n",
    "\n",
    "# Asegúrate de que df4 sea tu nuevo DataFrame\n",
    "df4.reset_index(drop=True, inplace=True)\n",
    "\n",
    "# Muestra el nuevo DataFrame\n",
    "df4"
   ]
  },
  {
   "cell_type": "code",
   "execution_count": null,
   "metadata": {},
   "outputs": [],
   "source": [
    "# Asumiendo que deseas eliminar la fila con índice 14 (0-indexed)\n",
    "index_to_remove = 14\n",
    "\n",
    "# Elimina la fila especificada por el índice\n",
    "df5 = df2.drop(index_to_remove)\n",
    "\n",
    "# Asegúrate de que df2 sea tu nuevo DataFrame\n",
    "df5.reset_index(drop=True, inplace=True)\n",
    "\n",
    "# Muestra el nuevo DataFrame\n",
    "df5.head(25)"
   ]
  },
  {
   "cell_type": "code",
   "execution_count": null,
   "metadata": {},
   "outputs": [],
   "source": [
    "df4['women_empl'] = df4['women_empl'].astype(str).astype(float)\n",
    "df5['women_empl'] = df5['women_empl'].astype(str).astype(float)\n",
    "\n",
    "\n",
    "# Se usarán las coordenadas de palacio de gobierno como centroide\n",
    "\n",
    "lat_palacio = -12.0757538\n",
    "long_palacio = -76.9863174\n",
    "zoom_start = 5\n",
    "\n",
    "z3 = fm.Map(location = [lat_palacio, long_palacio], tiles='cartodbpositron', zoom_start = zoom_start)\n",
    "\n",
    "\n",
    "fm.Choropleth(\n",
    "    geo_data=df4,\n",
    "    data=df5,\n",
    "    columns=['dpt_code', 'women_empl'],\n",
    "    key_on=\"feature.properties.dpt_code\",\n",
    "    fill_color=\"Reds\",\n",
    "    fill_opacity=0.8,\n",
    "    ).add_to(z3)\n",
    "\n",
    "z3"
   ]
  },
  {
   "cell_type": "code",
   "execution_count": null,
   "metadata": {},
   "outputs": [],
   "source": [
    "df6 = sex_work.groupby( ['dpt_code', 'month', 'sex'], as_index = False )[['empl']].sum() \\\n",
    "        .pivot( index = [ 'dpt_code', 'month' ] , columns = 'sex',values='empl') \\\n",
    "        .reset_index()\n",
    "df6"
   ]
  },
  {
   "cell_type": "code",
   "execution_count": null,
   "metadata": {},
   "outputs": [],
   "source": [
    "df6[ 'prop_wom' ] = ( df6.Mujer * 100 / df6.Hombre )\n",
    "df7 = dpt_shp.merge( df6, left_on = 'CCDD', right_on = 'dpt_code'  )\n",
    "df7"
   ]
  },
  {
   "cell_type": "code",
   "execution_count": null,
   "metadata": {},
   "outputs": [],
   "source": [
    "import folium as fm\n",
    "\n",
    "# Asumiendo que df5 es un DataFrame con datos geoespaciales\n",
    "# Asegúrate de que df5 tiene una columna 'month' con los nombres de los meses\n",
    "\n",
    "# Lista de meses únicos en el DataFrame\n",
    "unique_months = df7['month'].unique()\n",
    "\n",
    "# Se usarán las coordenadas de palacio de gobierno como centroide\n",
    "lat_palacio = -12.0757538\n",
    "long_palacio = -76.9863174\n",
    "zoom_start = 5\n",
    "\n",
    "# Crear un objeto de mapa inicial\n",
    "z4 = fm.Map(location=[lat_palacio, long_palacio], tiles='cartodbpositron', zoom_start=zoom_start)\n",
    "\n",
    "# Bucle para crear mapas individuales para cada mes\n",
    "for month in unique_months:\n",
    "    # Filtrar el DataFrame por mes\n",
    "    df_month = df7[df7['month'] == month]\n",
    "    \n",
    "    # Crear un objeto de mapa para el mes actual\n",
    "    m = fm.Map(location=[lat_palacio, long_palacio], tiles='cartodbpositron', zoom_start=zoom_start)\n",
    "    \n",
    "    # Agregar un Choropleth al mapa para el mes actual\n",
    "    fm.Choropleth(\n",
    "        geo_data=df7,\n",
    "        data=df_month,\n",
    "        columns=['dpt_code', 'prop_wom'],\n",
    "        key_on=\"feature.properties.dpt_code\",\n",
    "        fill_color=\"Reds\",\n",
    "        fill_opacity=0.8,\n",
    "    ).add_to(m)\n",
    "\n",
    "    # Mostrar el mapa del mes actual\n",
    "    display(m)"
   ]
  },
  {
   "cell_type": "code",
   "execution_count": null,
   "metadata": {},
   "outputs": [],
   "source": [
    "# Eliminar todas las filas que tienen 'LIMA' en la columna 'Region' (o la columna relevante)\n",
    "df8 = df7[df7['NOMBDEP'] != 'LIMA']\n",
    "\n",
    "# Asegurar que los índices sean consecutivos después de la eliminación\n",
    "df8.reset_index(drop=True, inplace=True)\n",
    "\n",
    "# Mostrar el nuevo DataFrame df8\n",
    "df8"
   ]
  },
  {
   "cell_type": "code",
   "execution_count": null,
   "metadata": {},
   "outputs": [],
   "source": [
    "# Copiar los DataFrames para evitar la SettingWithCopyWarning\n",
    "df6_copy = df6.copy()\n",
    "df8_copy = df8.copy()\n",
    "\n",
    "# Convertir la columna 'prop_wom' a tipo float\n",
    "df6_copy['prop_wom'] = df6_copy['prop_wom'].astype(float)\n",
    "df8_copy['prop_wom'] = df8_copy['prop_wom'].astype(float)\n",
    "\n",
    "# Se usarán las coordenadas de palacio de gobierno como centroide\n",
    "lat_palacio = -12.0757538\n",
    "long_palacio = -76.9863174\n",
    "zoom_start = 5\n",
    "\n",
    "# Crear un objeto de mapa\n",
    "z5 = fm.Map(location=[lat_palacio, long_palacio], tiles='cartodbpositron', zoom_start=zoom_start)\n",
    "\n",
    "# Crear el Choropleth y agregarlo al mapa\n",
    "choropleth = fm.Choropleth(\n",
    "    geo_data=df8_copy,\n",
    "    data=df6_copy,\n",
    "    columns=['dpt_code', 'prop_wom'],\n",
    "    key_on=\"feature.properties.dpt_code\",\n",
    "    fill_color=\"Reds\",\n",
    "    fill_opacity=0.8,\n",
    "    legend_name=\"Women Proportion\",\n",
    "    bins=[17.01, 20, 30, 40, 50, 100]\n",
    ").add_to(z5)\n",
    "\n",
    "# Mostrar el mapa\n",
    "z5"
   ]
  },
  {
   "cell_type": "code",
   "execution_count": null,
   "metadata": {},
   "outputs": [],
   "source": []
  },
  {
   "cell_type": "code",
   "execution_count": null,
   "metadata": {},
   "outputs": [],
   "source": []
  }
 ],
 "metadata": {
  "hide_input": false,
  "kernelspec": {
   "display_name": "Python 3 (ipykernel)",
   "language": "python",
   "name": "python3"
  },
  "language_info": {
   "codemirror_mode": {
    "name": "ipython",
    "version": 3
   },
   "file_extension": ".py",
   "mimetype": "text/x-python",
   "name": "python",
   "nbconvert_exporter": "python",
   "pygments_lexer": "ipython3",
   "version": "3.11.5"
  },
  "toc": {
   "base_numbering": 1,
   "nav_menu": {},
   "number_sections": true,
   "sideBar": true,
   "skip_h1_title": false,
   "title_cell": "Table of Contents",
   "title_sidebar": "Contents",
   "toc_cell": false,
   "toc_position": {},
   "toc_section_display": true,
   "toc_window_display": false
  }
 },
 "nbformat": 4,
 "nbformat_minor": 4
}
