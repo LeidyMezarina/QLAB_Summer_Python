{
 "cells": [
  {
   "cell_type": "markdown",
   "id": "d3d61e88",
   "metadata": {},
   "source": [
    "## Parte 1:\n",
    "Primero instalaremos la biblioteca folium y leemos el archivo con pandas. Tal y como se pide replicar en el archivo original, creamos una columna llamada \"dpt_code\" y \"prov_code\" (en base a data ya existente) , para luego filtrar los datos solo para mujeres. Después de ello convertimos columna month en formato de número y ordenamos nuestra df por departamento y mes. "
   ]
  },
  {
   "cell_type": "code",
   "execution_count": null,
   "id": "56f10ca7",
   "metadata": {},
   "outputs": [],
   "source": []
  },
  {
   "cell_type": "code",
   "execution_count": 1,
   "id": "878403a0",
   "metadata": {},
   "outputs": [],
   "source": [
    "import folium\n",
    "import pandas as pd\n",
    "import geopandas as gpd\n",
    "import matplotlib.pyplot as plt\n",
    "from folium import plugins\n",
    "import mplleaflet\n",
    "import branca.colormap as cm\n",
    "from folium.plugins import MiniMap\n",
    "from branca.colormap import LinearColormap"
   ]
  },
  {
   "cell_type": "code",
   "execution_count": 2,
   "id": "94b3db6b",
   "metadata": {},
   "outputs": [],
   "source": [
    "sex_work = pd.read_stata('C:/Users/nando/OneDrive/Documentos/GitHub/QLAB_Summer_Python/_data/8_trab_sex_20.dta')\n",
    "\n",
    "sex_work['dpt_code'] = sex_work.cod_ubigeo.str[:2].copy()\n",
    "sex_work['prov_code'] = sex_work.cod_ubigeo.str[:4].copy()\n",
    "women_work = sex_work[sex_work.sex == 'Mujer'].copy().reset_index(drop=True)\n",
    "women_work['month'] = pd.to_datetime(women_work.month, format='%B').dt.strftime('%m').astype(int)\n",
    "women_work.sort_values(['dpt_code', 'month'], inplace=True)"
   ]
  },
  {
   "cell_type": "markdown",
   "id": "3beac7d7",
   "metadata": {},
   "source": [
    "Obtenemos también el número total de mujeres empleadas por departamento y mes"
   ]
  },
  {
   "cell_type": "code",
   "execution_count": 3,
   "id": "ef1cf903",
   "metadata": {},
   "outputs": [
    {
     "data": {
      "text/html": [
       "<div>\n",
       "<style scoped>\n",
       "    .dataframe tbody tr th:only-of-type {\n",
       "        vertical-align: middle;\n",
       "    }\n",
       "\n",
       "    .dataframe tbody tr th {\n",
       "        vertical-align: top;\n",
       "    }\n",
       "\n",
       "    .dataframe thead th {\n",
       "        text-align: right;\n",
       "    }\n",
       "</style>\n",
       "<table border=\"1\" class=\"dataframe\">\n",
       "  <thead>\n",
       "    <tr style=\"text-align: right;\">\n",
       "      <th></th>\n",
       "      <th>dpt_code</th>\n",
       "      <th>month</th>\n",
       "      <th>women_empl</th>\n",
       "    </tr>\n",
       "  </thead>\n",
       "  <tbody>\n",
       "    <tr>\n",
       "      <th>0</th>\n",
       "      <td>01</td>\n",
       "      <td>1</td>\n",
       "      <td>2043</td>\n",
       "    </tr>\n",
       "    <tr>\n",
       "      <th>1</th>\n",
       "      <td>01</td>\n",
       "      <td>2</td>\n",
       "      <td>2059</td>\n",
       "    </tr>\n",
       "    <tr>\n",
       "      <th>2</th>\n",
       "      <td>01</td>\n",
       "      <td>3</td>\n",
       "      <td>2056</td>\n",
       "    </tr>\n",
       "    <tr>\n",
       "      <th>3</th>\n",
       "      <td>01</td>\n",
       "      <td>4</td>\n",
       "      <td>1811</td>\n",
       "    </tr>\n",
       "    <tr>\n",
       "      <th>4</th>\n",
       "      <td>01</td>\n",
       "      <td>5</td>\n",
       "      <td>1642</td>\n",
       "    </tr>\n",
       "    <tr>\n",
       "      <th>...</th>\n",
       "      <td>...</td>\n",
       "      <td>...</td>\n",
       "      <td>...</td>\n",
       "    </tr>\n",
       "    <tr>\n",
       "      <th>295</th>\n",
       "      <td>25</td>\n",
       "      <td>8</td>\n",
       "      <td>7425</td>\n",
       "    </tr>\n",
       "    <tr>\n",
       "      <th>296</th>\n",
       "      <td>25</td>\n",
       "      <td>9</td>\n",
       "      <td>7549</td>\n",
       "    </tr>\n",
       "    <tr>\n",
       "      <th>297</th>\n",
       "      <td>25</td>\n",
       "      <td>10</td>\n",
       "      <td>7751</td>\n",
       "    </tr>\n",
       "    <tr>\n",
       "      <th>298</th>\n",
       "      <td>25</td>\n",
       "      <td>11</td>\n",
       "      <td>7933</td>\n",
       "    </tr>\n",
       "    <tr>\n",
       "      <th>299</th>\n",
       "      <td>25</td>\n",
       "      <td>12</td>\n",
       "      <td>8087</td>\n",
       "    </tr>\n",
       "  </tbody>\n",
       "</table>\n",
       "<p>300 rows × 3 columns</p>\n",
       "</div>"
      ],
      "text/plain": [
       "    dpt_code  month  women_empl\n",
       "0         01      1        2043\n",
       "1         01      2        2059\n",
       "2         01      3        2056\n",
       "3         01      4        1811\n",
       "4         01      5        1642\n",
       "..       ...    ...         ...\n",
       "295       25      8        7425\n",
       "296       25      9        7549\n",
       "297       25     10        7751\n",
       "298       25     11        7933\n",
       "299       25     12        8087\n",
       "\n",
       "[300 rows x 3 columns]"
      ]
     },
     "execution_count": 3,
     "metadata": {},
     "output_type": "execute_result"
    }
   ],
   "source": [
    "dpt_women_work = women_work.groupby(['dpt_code', 'month'], as_index=False)[['empl']].sum().rename(columns={'empl': 'women_empl'})\n",
    "dpt_women_work"
   ]
  },
  {
   "cell_type": "code",
   "execution_count": 4,
   "id": "0123fdc2",
   "metadata": {},
   "outputs": [],
   "source": [
    "#Ordenamos con \"sort\"\n",
    "dpt_women_work.sort_values(['dpt_code', 'month'], inplace=True)"
   ]
  },
  {
   "cell_type": "markdown",
   "id": "38735f49",
   "metadata": {},
   "source": [
    "Obtenemos la media del empleo de las mujeres por departamento"
   ]
  },
  {
   "cell_type": "code",
   "execution_count": 5,
   "id": "9864b309",
   "metadata": {},
   "outputs": [
    {
     "data": {
      "text/html": [
       "<div>\n",
       "<style scoped>\n",
       "    .dataframe tbody tr th:only-of-type {\n",
       "        vertical-align: middle;\n",
       "    }\n",
       "\n",
       "    .dataframe tbody tr th {\n",
       "        vertical-align: top;\n",
       "    }\n",
       "\n",
       "    .dataframe thead th {\n",
       "        text-align: right;\n",
       "    }\n",
       "</style>\n",
       "<table border=\"1\" class=\"dataframe\">\n",
       "  <thead>\n",
       "    <tr style=\"text-align: right;\">\n",
       "      <th></th>\n",
       "      <th>dpt_code</th>\n",
       "      <th>women_empl</th>\n",
       "    </tr>\n",
       "  </thead>\n",
       "  <tbody>\n",
       "    <tr>\n",
       "      <th>0</th>\n",
       "      <td>01</td>\n",
       "      <td>1947.750000</td>\n",
       "    </tr>\n",
       "    <tr>\n",
       "      <th>1</th>\n",
       "      <td>02</td>\n",
       "      <td>18277.000000</td>\n",
       "    </tr>\n",
       "    <tr>\n",
       "      <th>2</th>\n",
       "      <td>03</td>\n",
       "      <td>3077.666667</td>\n",
       "    </tr>\n",
       "    <tr>\n",
       "      <th>3</th>\n",
       "      <td>04</td>\n",
       "      <td>57583.583333</td>\n",
       "    </tr>\n",
       "    <tr>\n",
       "      <th>4</th>\n",
       "      <td>05</td>\n",
       "      <td>3976.750000</td>\n",
       "    </tr>\n",
       "    <tr>\n",
       "      <th>5</th>\n",
       "      <td>06</td>\n",
       "      <td>9634.333333</td>\n",
       "    </tr>\n",
       "    <tr>\n",
       "      <th>6</th>\n",
       "      <td>07</td>\n",
       "      <td>40806.416667</td>\n",
       "    </tr>\n",
       "    <tr>\n",
       "      <th>7</th>\n",
       "      <td>08</td>\n",
       "      <td>19503.666667</td>\n",
       "    </tr>\n",
       "    <tr>\n",
       "      <th>8</th>\n",
       "      <td>09</td>\n",
       "      <td>675.333333</td>\n",
       "    </tr>\n",
       "    <tr>\n",
       "      <th>9</th>\n",
       "      <td>10</td>\n",
       "      <td>6222.750000</td>\n",
       "    </tr>\n",
       "    <tr>\n",
       "      <th>10</th>\n",
       "      <td>11</td>\n",
       "      <td>59548.166667</td>\n",
       "    </tr>\n",
       "    <tr>\n",
       "      <th>11</th>\n",
       "      <td>12</td>\n",
       "      <td>16535.833333</td>\n",
       "    </tr>\n",
       "    <tr>\n",
       "      <th>12</th>\n",
       "      <td>13</td>\n",
       "      <td>68958.916667</td>\n",
       "    </tr>\n",
       "    <tr>\n",
       "      <th>13</th>\n",
       "      <td>14</td>\n",
       "      <td>43129.583333</td>\n",
       "    </tr>\n",
       "    <tr>\n",
       "      <th>14</th>\n",
       "      <td>15</td>\n",
       "      <td>656477.250000</td>\n",
       "    </tr>\n",
       "    <tr>\n",
       "      <th>15</th>\n",
       "      <td>16</td>\n",
       "      <td>9061.000000</td>\n",
       "    </tr>\n",
       "    <tr>\n",
       "      <th>16</th>\n",
       "      <td>17</td>\n",
       "      <td>2705.250000</td>\n",
       "    </tr>\n",
       "    <tr>\n",
       "      <th>17</th>\n",
       "      <td>18</td>\n",
       "      <td>5060.750000</td>\n",
       "    </tr>\n",
       "    <tr>\n",
       "      <th>18</th>\n",
       "      <td>19</td>\n",
       "      <td>2227.166667</td>\n",
       "    </tr>\n",
       "    <tr>\n",
       "      <th>19</th>\n",
       "      <td>20</td>\n",
       "      <td>48369.666667</td>\n",
       "    </tr>\n",
       "    <tr>\n",
       "      <th>20</th>\n",
       "      <td>21</td>\n",
       "      <td>9062.416667</td>\n",
       "    </tr>\n",
       "    <tr>\n",
       "      <th>21</th>\n",
       "      <td>22</td>\n",
       "      <td>9895.166667</td>\n",
       "    </tr>\n",
       "    <tr>\n",
       "      <th>22</th>\n",
       "      <td>23</td>\n",
       "      <td>8304.500000</td>\n",
       "    </tr>\n",
       "    <tr>\n",
       "      <th>23</th>\n",
       "      <td>24</td>\n",
       "      <td>3676.083333</td>\n",
       "    </tr>\n",
       "    <tr>\n",
       "      <th>24</th>\n",
       "      <td>25</td>\n",
       "      <td>7546.000000</td>\n",
       "    </tr>\n",
       "  </tbody>\n",
       "</table>\n",
       "</div>"
      ],
      "text/plain": [
       "   dpt_code     women_empl\n",
       "0        01    1947.750000\n",
       "1        02   18277.000000\n",
       "2        03    3077.666667\n",
       "3        04   57583.583333\n",
       "4        05    3976.750000\n",
       "5        06    9634.333333\n",
       "6        07   40806.416667\n",
       "7        08   19503.666667\n",
       "8        09     675.333333\n",
       "9        10    6222.750000\n",
       "10       11   59548.166667\n",
       "11       12   16535.833333\n",
       "12       13   68958.916667\n",
       "13       14   43129.583333\n",
       "14       15  656477.250000\n",
       "15       16    9061.000000\n",
       "16       17    2705.250000\n",
       "17       18    5060.750000\n",
       "18       19    2227.166667\n",
       "19       20   48369.666667\n",
       "20       21    9062.416667\n",
       "21       22    9895.166667\n",
       "22       23    8304.500000\n",
       "23       24    3676.083333\n",
       "24       25    7546.000000"
      ]
     },
     "execution_count": 5,
     "metadata": {},
     "output_type": "execute_result"
    }
   ],
   "source": [
    "df2 = dpt_women_work.groupby(['dpt_code'], as_index=False)[['women_empl']].mean()\n",
    "df2"
   ]
  },
  {
   "cell_type": "markdown",
   "id": "e3de620c",
   "metadata": {},
   "source": [
    "## Vamos a crear el shapefile, para ello ya debimos haber descargado con anterioridad los archivos shapefile"
   ]
  },
  {
   "cell_type": "markdown",
   "id": "09ace716",
   "metadata": {},
   "source": [
    "Lo primero que haremos será cargar los datos geoespaciales para los departamentos, al comienzo seguiremos el procedimiento original del código de la tarea"
   ]
  },
  {
   "cell_type": "code",
   "execution_count": null,
   "id": "35d3cff8",
   "metadata": {},
   "outputs": [],
   "source": [
    "dpt_shp = gpd.read_file('C:/Users/nando/OneDrive/Documentos/GitHub/QLAB_Summer_Python/_data/INEI_LIMITE_DEPARTAMENTAL/INEI_LIMITE_DEPARTAMENTAL.shp')"
   ]
  },
  {
   "cell_type": "markdown",
   "id": "6810eecb",
   "metadata": {},
   "source": [
    "Ahora realizamos el merge con el df2 que habíamos definido anteriormente"
   ]
  },
  {
   "cell_type": "code",
   "execution_count": null,
   "id": "1d8bdfda",
   "metadata": {},
   "outputs": [],
   "source": [
    "df3 = dpt_shp.merge(df2, left_on='CCDD', right_on='dpt_code')\n",
    "# Creamos el mapa con folium\n",
    "peru_map = folium.Map(location=[-9.1900, -75.0152], zoom_start=6)"
   ]
  },
  {
   "cell_type": "markdown",
   "id": "0f68ce09",
   "metadata": {},
   "source": [
    "Tenmos que añadir el GeoDataframe al mapa que tenemos, luego el layer control (el cual nos permite controlar qué capas están visibles en nuestro mapa interactivo)"
   ]
  },
  {
   "cell_type": "code",
   "execution_count": null,
   "id": "fdee3aea",
   "metadata": {},
   "outputs": [],
   "source": [
    "folium.GeoJson(df3,\n",
    "               name='geojson',\n",
    "               style_function=lambda x: {'fillColor': 'red', 'color': 'black', 'weight': 2, 'dashArray': '5, 5'},\n",
    "               highlight_function=lambda x: {'weight': 3, 'color': 'blue'},\n",
    "               tooltip=folium.features.GeoJsonTooltip(fields=['women_empl'],\n",
    "                                                      aliases=['Women Employment'],\n",
    "                                                      labels=True,\n",
    "                                                      sticky=True)\n",
    "               ).add_to(peru_map)\n",
    "\n",
    "folium.LayerControl().add_to(peru_map)"
   ]
  },
  {
   "cell_type": "markdown",
   "id": "a726eef5",
   "metadata": {},
   "source": [
    "Ahora convertimos el gráfico de matplotlib a un objeto folium usando plugins, guardamos el mapa interactivo e imprimimos"
   ]
  },
  {
   "cell_type": "code",
   "execution_count": null,
   "id": "9a5ec79e",
   "metadata": {},
   "outputs": [],
   "source": [
    "fig, ax = plt.subplots(figsize=(20, 20))\n",
    "df3.plot(ax=ax, column='women_empl', cmap='Reds', linestyle='--', edgecolor='black', legend=True)\n",
    "\n",
    "folium.plugins.MiniMap().add_to(peru_map)\n",
    "\n",
    "peru_map.save('peru_map_combined.html')\n",
    "peru_map"
   ]
  },
  {
   "cell_type": "markdown",
   "id": "737f7378",
   "metadata": {},
   "source": [
    "Para la nueva parte del df3 se vuelve a crear el mapa y traspasarlo al folium"
   ]
  },
  {
   "cell_type": "code",
   "execution_count": null,
   "id": "0c2afa21",
   "metadata": {},
   "outputs": [],
   "source": [
    "# Creamos el mapa con folium\n",
    "peru_map1 = folium.Map(location=[-9.1900, -75.0152], zoom_start=6)\n",
    "\n",
    "folium.GeoJson(df3,\n",
    "               name='geojson',\n",
    "               style_function=lambda x: {'fillColor': 'red', 'color': 'black', 'weight': 2, 'dashArray': '5, 5'},\n",
    "               highlight_function=lambda x: {'weight': 3, 'color': 'blue'},\n",
    "               tooltip=folium.features.GeoJsonTooltip(fields=['women_empl'],\n",
    "                                                      aliases=['Women Employment'],\n",
    "                                                      labels=True,\n",
    "                                                      sticky=True)\n",
    "               ).add_to(peru_map1)\n",
    "\n",
    "folium.LayerControl().add_to(peru_map1)"
   ]
  },
  {
   "cell_type": "markdown",
   "id": "14890ced",
   "metadata": {},
   "source": [
    "Finalmente se replica el formato de pandas y se transforma en tipo folium "
   ]
  },
  {
   "cell_type": "code",
   "execution_count": null,
   "id": "2046d544",
   "metadata": {},
   "outputs": [],
   "source": [
    "fig, ax = plt.subplots(figsize=(20, 20))\n",
    "df3.plot( ax = ax, column='women_empl', cmap= 'Reds', figsize=(20, 20), linestyle='--', \n",
    "edgecolor='black', legend = True, scheme = \"User_Defined\", \n",
    "         classification_kwds = dict( bins = [ 20000, 40000, 60000, 100000  ] ), \n",
    "        legend_kwds = dict(  loc='upper left',\n",
    "                            bbox_to_anchor=(1.01, 1),\n",
    "                            fontsize='x-large',\n",
    "                            title= \"Number of Employers\", \n",
    "                            title_fontsize = 'x-large', \n",
    "                            frameon= False )\n",
    "        )\n",
    "folium.plugins.MiniMap().add_to(peru_map1)\n",
    "\n",
    "peru_map.save('peru_map1_combined.html')\n",
    "peru_map1"
   ]
  },
  {
   "cell_type": "markdown",
   "id": "00081302",
   "metadata": {},
   "source": [
    "Esto viene a ser otra forma de realizar el proceso. Pues para esto se se plantea como si el proceso fuese desde el inicio"
   ]
  },
  {
   "cell_type": "code",
   "execution_count": null,
   "id": "658d9991",
   "metadata": {},
   "outputs": [],
   "source": [
    "import folium\n",
    "from folium import Choropleth, GeoJson\n",
    "\n",
    "# Filtro los datos para CCDD diferente de \"15\"\n",
    "filtered_df = df3[df3['CCDD'] != \"15\"]\n",
    "\n",
    "# Creo el mapa centrado en la ubicación media de tus datos\n",
    "centroid_lat = filtered_df.to_crs(epsg='4326').geometry.centroid.y.mean()\n",
    "centroid_lon = filtered_df.to_crs(epsg='4326').geometry.centroid.x.mean()\n",
    "m = folium.Map(location=[centroid_lat, centroid_lon], zoom_start=6)\n",
    "#se le asigna el nombre m al folium para no poner una palabra en cada momento que se menciona de diversas ocaciones"
   ]
  },
  {
   "cell_type": "code",
   "execution_count": null,
   "id": "b156687b",
   "metadata": {},
   "outputs": [],
   "source": [
    "# Añado la capa de coropleta\n",
    "Choropleth(\n",
    "    geo_data=filtered_df,\n",
    "    data=filtered_df,\n",
    "    columns=['geometry', 'women_empl'],\n",
    "    key_on='feature.properties.women_empl',\n",
    "    fill_color='Reds',\n",
    "    fill_opacity=0.7,\n",
    "    line_opacity=0.2,\n",
    "    legend_name='Number of Employers',\n",
    "    line_color='black',\n",
    "    line_dash='--',\n",
    "    edgecolor='black',\n",
    "    name='Women Employment',\n",
    ").add_to(m)\n",
    "\n",
    "# Añado el límite de las áreas geográficas\n",
    "GeoJson(\n",
    "    filtered_df,\n",
    "    name='geojson',\n",
    "    style_function=lambda x: {\n",
    "        'color': 'black',\n",
    "        'weight': 2,\n",
    "        'dashArray': '5, 5',\n",
    "    },\n",
    ").add_to(m)\n",
    "\n",
    "folium.LayerControl().add_to(m)\n",
    "\n",
    "# Guardar el mapa\n",
    "m.save('map_filtered.html')\n",
    "m"
   ]
  },
  {
   "cell_type": "markdown",
   "id": "95598edc",
   "metadata": {},
   "source": [
    "# Parte 2"
   ]
  },
  {
   "cell_type": "code",
   "execution_count": null,
   "id": "324db23d",
   "metadata": {},
   "outputs": [],
   "source": [
    "pip install folium branca matplotlib"
   ]
  },
  {
   "cell_type": "code",
   "execution_count": null,
   "id": "3b82b9b0",
   "metadata": {},
   "outputs": [],
   "source": [
    "df4 = sex_work.groupby(['dpt_code', 'month', 'sex'], as_index=False)[['empl']].sum() \\\n",
    "        .pivot(index=['dpt_code', 'month'], columns='sex', values='empl') \\\n",
    "        .reset_index()"
   ]
  },
  {
   "cell_type": "code",
   "execution_count": null,
   "id": "6b5363bd",
   "metadata": {},
   "outputs": [],
   "source": [
    "df4"
   ]
  },
  {
   "cell_type": "code",
   "execution_count": null,
   "id": "85922faf",
   "metadata": {},
   "outputs": [],
   "source": [
    "df4[ 'prop_wom' ] = ( df4.Mujer * 100 / df4.Hombre )"
   ]
  },
  {
   "cell_type": "code",
   "execution_count": null,
   "id": "22ad9dab",
   "metadata": {},
   "outputs": [],
   "source": [
    "df5 = dpt_shp.merge( df4, left_on = 'CCDD', right_on = 'dpt_code'  )\n",
    "# Creamos el mapa con folium\n",
    "peru_map = folium.Map(location=[-9.1900, -75.0152], zoom_start=6)"
   ]
  },
  {
   "cell_type": "code",
   "execution_count": null,
   "id": "e1144e8e",
   "metadata": {},
   "outputs": [],
   "source": [
    "folium.GeoJson(df5,\n",
    "               name='geojson',\n",
    "               style_function=lambda x: {'fillColor': 'red', 'color': 'black', 'weight': 2, 'dashArray': '5, 5'},\n",
    "               highlight_function=lambda x: {'weight': 3, 'color': 'blue'},\n",
    "               tooltip=folium.features.GeoJsonTooltip(fields=['women_empl'],\n",
    "                                                      aliases=['Women Employment'],\n",
    "                                                      labels=True,\n",
    "                                                      sticky=True)\n",
    "               ).add_to(peru_map)\n",
    "\n",
    "folium.LayerControl().add_to(peru_map)"
   ]
  },
  {
   "cell_type": "code",
   "execution_count": null,
   "id": "90b7d609",
   "metadata": {},
   "outputs": [],
   "source": [
    "def create_folium_map(df_month, month):\n",
    "    df_json = df_month.to_json()\n",
    "    # Create the Map instance\n",
    "    m = folium.Map(location=[-9.1900, -75.0152], zoom_start=6)\n",
    "    colormap = linear.YlOrRd_09.scale(df_month['prop_wom'].min(), df_month['prop_wom'].max())\n",
    "    folium.GeoJson(\n",
    "        df_json,\n",
    "        name=f'Women Employment - {month}',\n",
    "        style_function=lambda feature: {\n",
    "            'fillColor': colormap(feature['properties']['prop_wom']),\n",
    "            'color': 'black',\n",
    "            'weight': 2,\n",
    "            'dashArray': '5, 5'\n",
    "        }\n",
    "    ).add_to(m)\n",
    "\n",
    "    colormap.add_to(m)\n",
    "    html_file = f\"map_{month}.html\"\n",
    "    m.save(html_file)\n",
    "    return html_file\n",
    "\n",
    "# Crear subgráficos de Matplotlib\n",
    "fig, axis = plt.subplots(nrows=4, ncols=3, figsize=(15, 15))\n",
    "\n",
    "idx = 0\n",
    "html_files = []  # Almacena nombres de archivos HTML\n",
    "\n",
    "for i in range(4):\n",
    "    for j in range(3):\n",
    "        ax = axis[i, j]\n",
    "\n",
    "        if idx < len(df5['month'].unique()):\n",
    "            month = df5['month'].unique()[idx]\n",
    "            df6 = df5[df5['month'] == month]\n",
    "\n",
    "            html_file = create_folium_map(df6, month)\n",
    "            html_files.append(html_file)  # Almacena nombres de archivos HTML\n",
    "\n",
    "            ax.set_title(month)\n",
    "\n",
    "        idx += 1\n",
    "\n",
    "# Imprime los enlaces HTML\n",
    "for file in html_files:\n",
    "    print(file)"
   ]
  },
  {
   "cell_type": "markdown",
   "id": "8be835c5",
   "metadata": {},
   "source": [
    "## Parte 3"
   ]
  },
  {
   "cell_type": "code",
   "execution_count": 3,
   "id": "d20215d1",
   "metadata": {},
   "outputs": [],
   "source": [
    "from textwrap import wrap"
   ]
  },
  {
   "cell_type": "code",
   "execution_count": null,
   "id": "966c072e",
   "metadata": {},
   "outputs": [],
   "source": [
    "# Inverting colour map\n",
    "cmap = plt.cm.OrRd"
   ]
  },
  {
   "cell_type": "markdown",
   "id": "11af2aa0",
   "metadata": {},
   "source": [
    "Se repite uno de los procesos realizados en parte 1"
   ]
  },
  {
   "cell_type": "code",
   "execution_count": null,
   "id": "f9acf0ec",
   "metadata": {},
   "outputs": [],
   "source": [
    "# Creamos el mapa con folium\n",
    "peru_map2 = folium.Map(location=[-9.1900, -75.0152], zoom_start=6)\n",
    "\n",
    "folium.GeoJson(df6,\n",
    "               name='geojson',\n",
    "               style_function=lambda x: {'fillColor': 'red', 'color': 'black', 'weight': 2, 'dashArray': '5, 5'},\n",
    "               highlight_function=lambda x: {'weight': 3, 'color': 'blue'},\n",
    "               tooltip=folium.features.GeoJsonTooltip(fields=['women_empl'],\n",
    "                                                      aliases=['Women Employment'],\n",
    "                                                      labels=True,\n",
    "                                                      sticky=True)\n",
    "               ).add_to(peru_map1)\n",
    "\n",
    "folium.LayerControl().add_to(peru_map1)"
   ]
  },
  {
   "cell_type": "markdown",
   "id": "bf2e609e",
   "metadata": {},
   "source": [
    "Finalmente se utiliza una forma de resolver esta parte "
   ]
  },
  {
   "cell_type": "code",
   "execution_count": null,
   "id": "46e78186",
   "metadata": {},
   "outputs": [],
   "source": [
    "fig, ax = plt.subplots(figsize=(20, 20))\n",
    "df6.plot( ax = ax, \n",
    "        column='prop_wom', \n",
    "         cmap= cmap, \n",
    "         figsize=(20, 20), \n",
    "         linestyle='--',\n",
    "         edgecolor='black', \n",
    "         legend = True,  \n",
    "         scheme = \"User_Defined\", \n",
    "         classification_kwds = dict( bins = [ 20, 30, 40, 50,  100 ] ), \n",
    "         legend_kwds=dict(  loc='upper left',\n",
    "                            bbox_to_anchor=(1.01, 1),\n",
    "                            fontsize='x-large',\n",
    "                            title= \"Women Proportion\", \n",
    "                            title_fontsize = 'x-large', \n",
    "                            frameon= False )\n",
    "        )\n",
    "folium.plugins.MiniMap().add_to(peru_map2)\n",
    "\n",
    "peru_map.save('peru_map2_combined.html')\n",
    "peru_map2"
   ]
  },
  {
   "cell_type": "code",
   "execution_count": null,
   "id": "5c6e2036",
   "metadata": {},
   "outputs": [],
   "source": []
  }
 ],
 "metadata": {
  "kernelspec": {
   "display_name": "Python 3 (ipykernel)",
   "language": "python",
   "name": "python3"
  },
  "language_info": {
   "codemirror_mode": {
    "name": "ipython",
    "version": 3
   },
   "file_extension": ".py",
   "mimetype": "text/x-python",
   "name": "python",
   "nbconvert_exporter": "python",
   "pygments_lexer": "ipython3",
   "version": "3.11.3"
  }
 },
 "nbformat": 4,
 "nbformat_minor": 5
}
