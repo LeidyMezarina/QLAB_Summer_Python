{
 "cells": [
  {
   "cell_type": "markdown",
   "id": "826d7d42",
   "metadata": {},
   "source": [
    "# Assignment 4 - Group 1\n",
    "\n",
    "First we run the provided code. The first map is the following:"
   ]
  },
  {
   "cell_type": "code",
   "execution_count": null,
   "id": "0d02dbf3",
   "metadata": {},
   "outputs": [],
   "source": [
    "from IPython.display import display, HTML\n",
    "\n",
    "display(HTML(data=\"\"\"\n",
    "<style>\n",
    "    div#notebook-container    { width: 95%; }\n",
    "    div#menubar-container     { width: 65%; }\n",
    "    div#maintoolbar-container { width: 99%; }a\n",
    "</style>\n",
    "\"\"\"))\n",
    "\n",
    "import matplotlib.pyplot as plt \n",
    "\n",
    "import numpy as np\n",
    "import pandas as pd\n",
    "import geopandas as gpd\n",
    "\n",
    "# Get data of labor\n",
    "sex_work = pd.read_stata( r'C:\\Users\\HP\\Documents\\qlab\\8_trab_sex_20.dta' )\n",
    "sex_work[ 'dpt_code' ] = sex_work.cod_ubigeo.str[ :2 ].copy()\n",
    "sex_work[ 'prov_code' ] = sex_work.cod_ubigeo.str[ :4 ].copy()\n",
    "\n",
    "# Sex work\n",
    "women_work = sex_work[ sex_work.sex == 'Mujer' ].copy().reset_index( drop = True )\n",
    "\n",
    "# get data from lima\n",
    "women_work[ 'month' ] = pd.to_datetime( women_work.month , format = '%B' ) \\\n",
    "                                    .dt.strftime( '%m' ) \\\n",
    "                                    .astype( int )\n",
    "\n",
    "# Sort by department and month\n",
    "women_work.sort_values([ 'dpt_code', 'month'], inplace = True )\n",
    "\n",
    "# Get the total number of women workers by dpt\n",
    "dpt_women_work = women_work.groupby( [ 'dpt_code', 'month'], as_index = False )[['empl']] \\\n",
    "                            .sum() \\\n",
    "                            .rename( columns = {'empl' :'women_empl'})\n",
    "\n",
    "# Sort by dpt code and month\n",
    "dpt_women_work.sort_values([ 'dpt_code', 'month'], inplace = True )\n",
    "\n",
    "df2 = dpt_women_work.groupby( ['dpt_code'],as_index = False )[['women_empl']].mean()\n",
    "\n",
    "# Shapefile\n",
    "\n",
    "dpt_shp = gpd.read_file( r'C:\\Users\\HP\\Documents\\qlab\\QLAB_Summer_Python\\_data\\INEI_LIMITE_DEPARTAMENTAL\\INEI_LIMITE_DEPARTAMENTAL.shp' )\n",
    "\n",
    "df3 = dpt_shp.merge( df2, left_on = 'CCDD', right_on = 'dpt_code'  )\n",
    "\n",
    "df3.plot( column='women_empl', cmap='Reds', figsize=(20, 20), linestyle='--',\n",
    "                      edgecolor='black', \n",
    "                      legend = True)"
   ]
  }
 ],
 "metadata": {
  "kernelspec": {
   "display_name": "Python 3 (ipykernel)",
   "language": "python",
   "name": "python3"
  },
  "language_info": {
   "codemirror_mode": {
    "name": "ipython",
    "version": 3
   },
   "file_extension": ".py",
   "mimetype": "text/x-python",
   "name": "python",
   "nbconvert_exporter": "python",
   "pygments_lexer": "ipython3",
   "version": "3.9.18"
  }
 },
 "nbformat": 4,
 "nbformat_minor": 5
}
