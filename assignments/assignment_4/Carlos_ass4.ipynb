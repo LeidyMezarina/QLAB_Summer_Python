{
 "cells": [
  {
   "cell_type": "markdown",
   "id": "d3d61e88",
   "metadata": {},
   "source": [
    "## Parte 1:\n",
    "Primero instalaremos la biblioteca folium y leemos el archivo con pandas. Tal y como se pide replicar en el archivo original, creamos una columna llamada \"dpt_code\" y \"prov_code\" (en base a data ya existente) , para luego filtrar los datos solo para mujeres. Después de ello convertimos columna month en formato de número y ordenamos nuestra df por departamento y mes. "
   ]
  },
  {
   "cell_type": "code",
   "execution_count": 14,
   "id": "56f10ca7",
   "metadata": {},
   "outputs": [
    {
     "name": "stdout",
     "output_type": "stream",
     "text": [
      "Requirement already satisfied: geopandas in c:\\users\\pc14\\anaconda3\\lib\\site-packages (0.14.2)\n",
      "Requirement already satisfied: fiona>=1.8.21 in c:\\users\\pc14\\anaconda3\\lib\\site-packages (from geopandas) (1.9.5)\n",
      "Requirement already satisfied: packaging in c:\\users\\pc14\\anaconda3\\lib\\site-packages (from geopandas) (23.1)\n",
      "Requirement already satisfied: pandas>=1.4.0 in c:\\users\\pc14\\anaconda3\\lib\\site-packages (from geopandas) (2.0.3)\n",
      "Requirement already satisfied: pyproj>=3.3.0 in c:\\users\\pc14\\anaconda3\\lib\\site-packages (from geopandas) (3.6.1)\n",
      "Requirement already satisfied: shapely>=1.8.0 in c:\\users\\pc14\\anaconda3\\lib\\site-packages (from geopandas) (2.0.2)\n",
      "Requirement already satisfied: attrs>=19.2.0 in c:\\users\\pc14\\anaconda3\\lib\\site-packages (from fiona>=1.8.21->geopandas) (22.1.0)\n",
      "Requirement already satisfied: certifi in c:\\users\\pc14\\anaconda3\\lib\\site-packages (from fiona>=1.8.21->geopandas) (2023.7.22)\n",
      "Requirement already satisfied: click~=8.0 in c:\\users\\pc14\\anaconda3\\lib\\site-packages (from fiona>=1.8.21->geopandas) (8.0.4)\n",
      "Requirement already satisfied: click-plugins>=1.0 in c:\\users\\pc14\\anaconda3\\lib\\site-packages (from fiona>=1.8.21->geopandas) (1.1.1)\n",
      "Requirement already satisfied: cligj>=0.5 in c:\\users\\pc14\\anaconda3\\lib\\site-packages (from fiona>=1.8.21->geopandas) (0.7.2)\n",
      "Requirement already satisfied: six in c:\\users\\pc14\\anaconda3\\lib\\site-packages (from fiona>=1.8.21->geopandas) (1.16.0)\n",
      "Requirement already satisfied: setuptools in c:\\users\\pc14\\anaconda3\\lib\\site-packages (from fiona>=1.8.21->geopandas) (68.0.0)\n",
      "Requirement already satisfied: python-dateutil>=2.8.2 in c:\\users\\pc14\\anaconda3\\lib\\site-packages (from pandas>=1.4.0->geopandas) (2.8.2)\n",
      "Requirement already satisfied: pytz>=2020.1 in c:\\users\\pc14\\anaconda3\\lib\\site-packages (from pandas>=1.4.0->geopandas) (2023.3.post1)\n",
      "Requirement already satisfied: tzdata>=2022.1 in c:\\users\\pc14\\anaconda3\\lib\\site-packages (from pandas>=1.4.0->geopandas) (2023.3)\n",
      "Requirement already satisfied: numpy>=1.21.0 in c:\\users\\pc14\\anaconda3\\lib\\site-packages (from pandas>=1.4.0->geopandas) (1.24.3)\n",
      "Requirement already satisfied: colorama in c:\\users\\pc14\\anaconda3\\lib\\site-packages (from click~=8.0->fiona>=1.8.21->geopandas) (0.4.6)\n",
      "Requirement already satisfied: folium in c:\\users\\pc14\\anaconda3\\lib\\site-packages (0.15.1)\n",
      "Requirement already satisfied: branca>=0.6.0 in c:\\users\\pc14\\anaconda3\\lib\\site-packages (from folium) (0.7.0)\n",
      "Requirement already satisfied: jinja2>=2.9 in c:\\users\\pc14\\anaconda3\\lib\\site-packages (from folium) (3.1.2)\n",
      "Requirement already satisfied: numpy in c:\\users\\pc14\\anaconda3\\lib\\site-packages (from folium) (1.24.3)\n",
      "Requirement already satisfied: requests in c:\\users\\pc14\\anaconda3\\lib\\site-packages (from folium) (2.31.0)\n",
      "Requirement already satisfied: xyzservices in c:\\users\\pc14\\anaconda3\\lib\\site-packages (from folium) (2022.9.0)\n",
      "Requirement already satisfied: MarkupSafe>=2.0 in c:\\users\\pc14\\anaconda3\\lib\\site-packages (from jinja2>=2.9->folium) (2.1.1)\n",
      "Requirement already satisfied: charset-normalizer<4,>=2 in c:\\users\\pc14\\anaconda3\\lib\\site-packages (from requests->folium) (2.0.4)\n",
      "Requirement already satisfied: idna<4,>=2.5 in c:\\users\\pc14\\anaconda3\\lib\\site-packages (from requests->folium) (3.4)\n",
      "Requirement already satisfied: urllib3<3,>=1.21.1 in c:\\users\\pc14\\anaconda3\\lib\\site-packages (from requests->folium) (1.26.16)\n",
      "Requirement already satisfied: certifi>=2017.4.17 in c:\\users\\pc14\\anaconda3\\lib\\site-packages (from requests->folium) (2023.7.22)\n",
      "Collecting mplleaflet\n",
      "  Downloading mplleaflet-0.0.5.tar.gz (37 kB)\n",
      "  Preparing metadata (setup.py): started\n",
      "  Preparing metadata (setup.py): finished with status 'done'\n",
      "Requirement already satisfied: jinja2 in c:\\users\\pc14\\anaconda3\\lib\\site-packages (from mplleaflet) (3.1.2)\n",
      "Requirement already satisfied: six in c:\\users\\pc14\\anaconda3\\lib\\site-packages (from mplleaflet) (1.16.0)\n",
      "Requirement already satisfied: MarkupSafe>=2.0 in c:\\users\\pc14\\anaconda3\\lib\\site-packages (from jinja2->mplleaflet) (2.1.1)\n",
      "Building wheels for collected packages: mplleaflet\n",
      "  Building wheel for mplleaflet (setup.py): started\n",
      "  Building wheel for mplleaflet (setup.py): finished with status 'done'\n",
      "  Created wheel for mplleaflet: filename=mplleaflet-0.0.5-py3-none-any.whl size=28574 sha256=387808e6612fe82818a2e7716175111460bf8858fe30b4870b99ba38cfcc3af8\n",
      "  Stored in directory: c:\\users\\pc14\\appdata\\local\\pip\\cache\\wheels\\19\\d8\\76\\c40290202e76c98889c67d6c21fe5e7057334b088e21ef88ba\n",
      "Successfully built mplleaflet\n",
      "Installing collected packages: mplleaflet\n",
      "Successfully installed mplleaflet-0.0.5\n"
     ]
    }
   ],
   "source": [
    "!pip install geopandas\n",
    "!pip install folium\n",
    "!pip install mplleaflet"
   ]
  },
  {
   "cell_type": "code",
   "execution_count": null,
   "id": "878403a0",
   "metadata": {},
   "outputs": [],
   "source": [
    "import folium\n",
    "import pandas as pd\n",
    "import geopandas as gpd\n",
    "import matplotlib.pyplot as plt\n",
    "from folium import plugins\n",
    "import mplleaflet\n",
    "import branca.colormap as cm\n",
    "from folium.plugins import MiniMap\n",
    "from branca.colormap import LinearColormap"
   ]
  },
  {
   "cell_type": "code",
   "execution_count": 16,
   "id": "94b3db6b",
   "metadata": {},
   "outputs": [
    {
     "ename": "FileNotFoundError",
     "evalue": "[Errno 2] No such file or directory: 'C:/Users/nando/OneDrive/Documentos/GitHub/QLAB_Summer_Python/_data/8_trab_sex_20.dta'",
     "output_type": "error",
     "traceback": [
      "\u001b[1;31m---------------------------------------------------------------------------\u001b[0m",
      "\u001b[1;31mFileNotFoundError\u001b[0m                         Traceback (most recent call last)",
      "Cell \u001b[1;32mIn[16], line 1\u001b[0m\n\u001b[1;32m----> 1\u001b[0m sex_work \u001b[38;5;241m=\u001b[39m pd\u001b[38;5;241m.\u001b[39mread_stata(\u001b[38;5;124m'\u001b[39m\u001b[38;5;124mC:/Users/nando/OneDrive/Documentos/GitHub/QLAB_Summer_Python/_data/8_trab_sex_20.dta\u001b[39m\u001b[38;5;124m'\u001b[39m)\n\u001b[0;32m      3\u001b[0m sex_work[\u001b[38;5;124m'\u001b[39m\u001b[38;5;124mdpt_code\u001b[39m\u001b[38;5;124m'\u001b[39m] \u001b[38;5;241m=\u001b[39m sex_work\u001b[38;5;241m.\u001b[39mcod_ubigeo\u001b[38;5;241m.\u001b[39mstr[:\u001b[38;5;241m2\u001b[39m]\u001b[38;5;241m.\u001b[39mcopy()\n\u001b[0;32m      4\u001b[0m sex_work[\u001b[38;5;124m'\u001b[39m\u001b[38;5;124mprov_code\u001b[39m\u001b[38;5;124m'\u001b[39m] \u001b[38;5;241m=\u001b[39m sex_work\u001b[38;5;241m.\u001b[39mcod_ubigeo\u001b[38;5;241m.\u001b[39mstr[:\u001b[38;5;241m4\u001b[39m]\u001b[38;5;241m.\u001b[39mcopy()\n",
      "File \u001b[1;32m~\\anaconda3\\Lib\\site-packages\\pandas\\io\\stata.py:2090\u001b[0m, in \u001b[0;36mread_stata\u001b[1;34m(filepath_or_buffer, convert_dates, convert_categoricals, index_col, convert_missing, preserve_dtypes, columns, order_categoricals, chunksize, iterator, compression, storage_options)\u001b[0m\n\u001b[0;32m   2087\u001b[0m     \u001b[38;5;28;01mreturn\u001b[39;00m reader\n\u001b[0;32m   2089\u001b[0m \u001b[38;5;28;01mwith\u001b[39;00m reader:\n\u001b[1;32m-> 2090\u001b[0m     \u001b[38;5;28;01mreturn\u001b[39;00m reader\u001b[38;5;241m.\u001b[39mread()\n",
      "File \u001b[1;32m~\\anaconda3\\Lib\\site-packages\\pandas\\io\\stata.py:1702\u001b[0m, in \u001b[0;36mStataReader.read\u001b[1;34m(self, nrows, convert_dates, convert_categoricals, index_col, convert_missing, preserve_dtypes, columns, order_categoricals)\u001b[0m\n\u001b[0;32m   1690\u001b[0m \u001b[38;5;129m@Appender\u001b[39m(_read_method_doc)\n\u001b[0;32m   1691\u001b[0m \u001b[38;5;28;01mdef\u001b[39;00m \u001b[38;5;21mread\u001b[39m(\n\u001b[0;32m   1692\u001b[0m     \u001b[38;5;28mself\u001b[39m,\n\u001b[1;32m   (...)\u001b[0m\n\u001b[0;32m   1700\u001b[0m     order_categoricals: \u001b[38;5;28mbool\u001b[39m \u001b[38;5;241m|\u001b[39m \u001b[38;5;28;01mNone\u001b[39;00m \u001b[38;5;241m=\u001b[39m \u001b[38;5;28;01mNone\u001b[39;00m,\n\u001b[0;32m   1701\u001b[0m ) \u001b[38;5;241m-\u001b[39m\u001b[38;5;241m>\u001b[39m DataFrame:\n\u001b[1;32m-> 1702\u001b[0m     \u001b[38;5;28mself\u001b[39m\u001b[38;5;241m.\u001b[39m_ensure_open()\n\u001b[0;32m   1703\u001b[0m     \u001b[38;5;66;03m# Handle empty file or chunk.  If reading incrementally raise\u001b[39;00m\n\u001b[0;32m   1704\u001b[0m     \u001b[38;5;66;03m# StopIteration.  If reading the whole thing return an empty\u001b[39;00m\n\u001b[0;32m   1705\u001b[0m     \u001b[38;5;66;03m# data frame.\u001b[39;00m\n\u001b[0;32m   1706\u001b[0m     \u001b[38;5;28;01mif\u001b[39;00m (\u001b[38;5;28mself\u001b[39m\u001b[38;5;241m.\u001b[39m_nobs \u001b[38;5;241m==\u001b[39m \u001b[38;5;241m0\u001b[39m) \u001b[38;5;129;01mand\u001b[39;00m (nrows \u001b[38;5;129;01mis\u001b[39;00m \u001b[38;5;28;01mNone\u001b[39;00m):\n",
      "File \u001b[1;32m~\\anaconda3\\Lib\\site-packages\\pandas\\io\\stata.py:1176\u001b[0m, in \u001b[0;36mStataReader._ensure_open\u001b[1;34m(self)\u001b[0m\n\u001b[0;32m   1172\u001b[0m \u001b[38;5;250m\u001b[39m\u001b[38;5;124;03m\"\"\"\u001b[39;00m\n\u001b[0;32m   1173\u001b[0m \u001b[38;5;124;03mEnsure the file has been opened and its header data read.\u001b[39;00m\n\u001b[0;32m   1174\u001b[0m \u001b[38;5;124;03m\"\"\"\u001b[39;00m\n\u001b[0;32m   1175\u001b[0m \u001b[38;5;28;01mif\u001b[39;00m \u001b[38;5;129;01mnot\u001b[39;00m \u001b[38;5;28mhasattr\u001b[39m(\u001b[38;5;28mself\u001b[39m, \u001b[38;5;124m\"\u001b[39m\u001b[38;5;124m_path_or_buf\u001b[39m\u001b[38;5;124m\"\u001b[39m):\n\u001b[1;32m-> 1176\u001b[0m     \u001b[38;5;28mself\u001b[39m\u001b[38;5;241m.\u001b[39m_open_file()\n",
      "File \u001b[1;32m~\\anaconda3\\Lib\\site-packages\\pandas\\io\\stata.py:1189\u001b[0m, in \u001b[0;36mStataReader._open_file\u001b[1;34m(self)\u001b[0m\n\u001b[0;32m   1182\u001b[0m \u001b[38;5;28;01mif\u001b[39;00m \u001b[38;5;129;01mnot\u001b[39;00m \u001b[38;5;28mself\u001b[39m\u001b[38;5;241m.\u001b[39m_entered:\n\u001b[0;32m   1183\u001b[0m     warnings\u001b[38;5;241m.\u001b[39mwarn(\n\u001b[0;32m   1184\u001b[0m         \u001b[38;5;124m\"\u001b[39m\u001b[38;5;124mStataReader is being used without using a context manager. \u001b[39m\u001b[38;5;124m\"\u001b[39m\n\u001b[0;32m   1185\u001b[0m         \u001b[38;5;124m\"\u001b[39m\u001b[38;5;124mUsing StataReader as a context manager is the only supported method.\u001b[39m\u001b[38;5;124m\"\u001b[39m,\n\u001b[0;32m   1186\u001b[0m         \u001b[38;5;167;01mResourceWarning\u001b[39;00m,\n\u001b[0;32m   1187\u001b[0m         stacklevel\u001b[38;5;241m=\u001b[39mfind_stack_level(),\n\u001b[0;32m   1188\u001b[0m     )\n\u001b[1;32m-> 1189\u001b[0m handles \u001b[38;5;241m=\u001b[39m get_handle(\n\u001b[0;32m   1190\u001b[0m     \u001b[38;5;28mself\u001b[39m\u001b[38;5;241m.\u001b[39m_original_path_or_buf,\n\u001b[0;32m   1191\u001b[0m     \u001b[38;5;124m\"\u001b[39m\u001b[38;5;124mrb\u001b[39m\u001b[38;5;124m\"\u001b[39m,\n\u001b[0;32m   1192\u001b[0m     storage_options\u001b[38;5;241m=\u001b[39m\u001b[38;5;28mself\u001b[39m\u001b[38;5;241m.\u001b[39m_storage_options,\n\u001b[0;32m   1193\u001b[0m     is_text\u001b[38;5;241m=\u001b[39m\u001b[38;5;28;01mFalse\u001b[39;00m,\n\u001b[0;32m   1194\u001b[0m     compression\u001b[38;5;241m=\u001b[39m\u001b[38;5;28mself\u001b[39m\u001b[38;5;241m.\u001b[39m_compression,\n\u001b[0;32m   1195\u001b[0m )\n\u001b[0;32m   1196\u001b[0m \u001b[38;5;28;01mif\u001b[39;00m \u001b[38;5;28mhasattr\u001b[39m(handles\u001b[38;5;241m.\u001b[39mhandle, \u001b[38;5;124m\"\u001b[39m\u001b[38;5;124mseekable\u001b[39m\u001b[38;5;124m\"\u001b[39m) \u001b[38;5;129;01mand\u001b[39;00m handles\u001b[38;5;241m.\u001b[39mhandle\u001b[38;5;241m.\u001b[39mseekable():\n\u001b[0;32m   1197\u001b[0m     \u001b[38;5;66;03m# If the handle is directly seekable, use it without an extra copy.\u001b[39;00m\n\u001b[0;32m   1198\u001b[0m     \u001b[38;5;28mself\u001b[39m\u001b[38;5;241m.\u001b[39m_path_or_buf \u001b[38;5;241m=\u001b[39m handles\u001b[38;5;241m.\u001b[39mhandle\n",
      "File \u001b[1;32m~\\anaconda3\\Lib\\site-packages\\pandas\\io\\common.py:868\u001b[0m, in \u001b[0;36mget_handle\u001b[1;34m(path_or_buf, mode, encoding, compression, memory_map, is_text, errors, storage_options)\u001b[0m\n\u001b[0;32m    859\u001b[0m         handle \u001b[38;5;241m=\u001b[39m \u001b[38;5;28mopen\u001b[39m(\n\u001b[0;32m    860\u001b[0m             handle,\n\u001b[0;32m    861\u001b[0m             ioargs\u001b[38;5;241m.\u001b[39mmode,\n\u001b[1;32m   (...)\u001b[0m\n\u001b[0;32m    864\u001b[0m             newline\u001b[38;5;241m=\u001b[39m\u001b[38;5;124m\"\u001b[39m\u001b[38;5;124m\"\u001b[39m,\n\u001b[0;32m    865\u001b[0m         )\n\u001b[0;32m    866\u001b[0m     \u001b[38;5;28;01melse\u001b[39;00m:\n\u001b[0;32m    867\u001b[0m         \u001b[38;5;66;03m# Binary mode\u001b[39;00m\n\u001b[1;32m--> 868\u001b[0m         handle \u001b[38;5;241m=\u001b[39m \u001b[38;5;28mopen\u001b[39m(handle, ioargs\u001b[38;5;241m.\u001b[39mmode)\n\u001b[0;32m    869\u001b[0m     handles\u001b[38;5;241m.\u001b[39mappend(handle)\n\u001b[0;32m    871\u001b[0m \u001b[38;5;66;03m# Convert BytesIO or file objects passed with an encoding\u001b[39;00m\n",
      "\u001b[1;31mFileNotFoundError\u001b[0m: [Errno 2] No such file or directory: 'C:/Users/nando/OneDrive/Documentos/GitHub/QLAB_Summer_Python/_data/8_trab_sex_20.dta'"
     ]
    }
   ],
   "source": [
    "sex_work = pd.read_stata('C:/Users/nando/OneDrive/Documentos/GitHub/QLAB_Summer_Python/_data/8_trab_sex_20.dta')\n",
    "\n",
    "sex_work['dpt_code'] = sex_work.cod_ubigeo.str[:2].copy()\n",
    "sex_work['prov_code'] = sex_work.cod_ubigeo.str[:4].copy()\n",
    "women_work = sex_work[sex_work.sex == 'Mujer'].copy().reset_index(drop=True)\n",
    "women_work['month'] = pd.to_datetime(women_work.month, format='%B').dt.strftime('%m').astype(int)\n",
    "women_work.sort_values(['dpt_code', 'month'], inplace=True)"
   ]
  },
  {
   "cell_type": "markdown",
   "id": "3beac7d7",
   "metadata": {},
   "source": [
    "Obtenemos también el número total de mujeres empleadas por departamento y mes"
   ]
  },
  {
   "cell_type": "code",
   "execution_count": null,
   "id": "ef1cf903",
   "metadata": {},
   "outputs": [],
   "source": [
    "dpt_women_work = women_work.groupby(['dpt_code', 'month'], as_index=False)[['empl']].sum().rename(columns={'empl': 'women_empl'})\n",
    "dpt_women_work"
   ]
  },
  {
   "cell_type": "code",
   "execution_count": null,
   "id": "0123fdc2",
   "metadata": {},
   "outputs": [],
   "source": [
    "#Ordenamos con \"sort\"\n",
    "dpt_women_work.sort_values(['dpt_code', 'month'], inplace=True)"
   ]
  },
  {
   "cell_type": "markdown",
   "id": "38735f49",
   "metadata": {},
   "source": [
    "Obtenemos la media del empleo de las mujeres por departamento"
   ]
  },
  {
   "cell_type": "code",
   "execution_count": null,
   "id": "9864b309",
   "metadata": {},
   "outputs": [],
   "source": [
    "df2 = dpt_women_work.groupby(['dpt_code'], as_index=False)[['women_empl']].mean()\n",
    "df2"
   ]
  },
  {
   "cell_type": "markdown",
   "id": "e3de620c",
   "metadata": {},
   "source": [
    "## Vamos a crear el shapefile, para ello ya debimos haber descargado con anterioridad los archivos shapefile"
   ]
  },
  {
   "cell_type": "markdown",
   "id": "09ace716",
   "metadata": {},
   "source": [
    "Lo primero que haremos será cargar los datos geoespaciales para los departamentos, al comienzo seguiremos el procedimiento original del código de la tarea"
   ]
  },
  {
   "cell_type": "code",
   "execution_count": 21,
   "id": "35d3cff8",
   "metadata": {},
   "outputs": [
    {
     "ename": "DriverError",
     "evalue": "C:/Users/PC14/Documents/GitHub/QLAB_Summer_Python/_data/INEI_LIMITE_DEPARTAMENTAL/INEI_LIMITE_DEPARTAMENTAL.shp: No such file or directory",
     "output_type": "error",
     "traceback": [
      "\u001b[1;31m---------------------------------------------------------------------------\u001b[0m",
      "\u001b[1;31mCPLE_OpenFailedError\u001b[0m                      Traceback (most recent call last)",
      "File \u001b[1;32mfiona\\\\ogrext.pyx:136\u001b[0m, in \u001b[0;36mfiona.ogrext.gdal_open_vector\u001b[1;34m()\u001b[0m\n",
      "File \u001b[1;32mfiona\\\\_err.pyx:291\u001b[0m, in \u001b[0;36mfiona._err.exc_wrap_pointer\u001b[1;34m()\u001b[0m\n",
      "\u001b[1;31mCPLE_OpenFailedError\u001b[0m: C:/Users/PC14/Documents/GitHub/QLAB_Summer_Python/_data/INEI_LIMITE_DEPARTAMENTAL/INEI_LIMITE_DEPARTAMENTAL.shp: No such file or directory",
      "\nDuring handling of the above exception, another exception occurred:\n",
      "\u001b[1;31mDriverError\u001b[0m                               Traceback (most recent call last)",
      "Cell \u001b[1;32mIn[21], line 1\u001b[0m\n\u001b[1;32m----> 1\u001b[0m dpt_shp \u001b[38;5;241m=\u001b[39m gpd\u001b[38;5;241m.\u001b[39mread_file(\u001b[38;5;124m'\u001b[39m\u001b[38;5;124mC:/Users/PC14/Documents/GitHub/QLAB_Summer_Python/_data/INEI_LIMITE_DEPARTAMENTAL/INEI_LIMITE_DEPARTAMENTAL.shp\u001b[39m\u001b[38;5;124m'\u001b[39m)\n",
      "File \u001b[1;32m~\\anaconda3\\Lib\\site-packages\\geopandas\\io\\file.py:297\u001b[0m, in \u001b[0;36m_read_file\u001b[1;34m(filename, bbox, mask, rows, engine, **kwargs)\u001b[0m\n\u001b[0;32m    294\u001b[0m     \u001b[38;5;28;01melse\u001b[39;00m:\n\u001b[0;32m    295\u001b[0m         path_or_bytes \u001b[38;5;241m=\u001b[39m filename\n\u001b[1;32m--> 297\u001b[0m     \u001b[38;5;28;01mreturn\u001b[39;00m _read_file_fiona(\n\u001b[0;32m    298\u001b[0m         path_or_bytes, from_bytes, bbox\u001b[38;5;241m=\u001b[39mbbox, mask\u001b[38;5;241m=\u001b[39mmask, rows\u001b[38;5;241m=\u001b[39mrows, \u001b[38;5;241m*\u001b[39m\u001b[38;5;241m*\u001b[39mkwargs\n\u001b[0;32m    299\u001b[0m     )\n\u001b[0;32m    301\u001b[0m \u001b[38;5;28;01melse\u001b[39;00m:\n\u001b[0;32m    302\u001b[0m     \u001b[38;5;28;01mraise\u001b[39;00m \u001b[38;5;167;01mValueError\u001b[39;00m(\u001b[38;5;124mf\u001b[39m\u001b[38;5;124m\"\u001b[39m\u001b[38;5;124munknown engine \u001b[39m\u001b[38;5;124m'\u001b[39m\u001b[38;5;132;01m{\u001b[39;00mengine\u001b[38;5;132;01m}\u001b[39;00m\u001b[38;5;124m'\u001b[39m\u001b[38;5;124m\"\u001b[39m)\n",
      "File \u001b[1;32m~\\anaconda3\\Lib\\site-packages\\geopandas\\io\\file.py:338\u001b[0m, in \u001b[0;36m_read_file_fiona\u001b[1;34m(path_or_bytes, from_bytes, bbox, mask, rows, where, **kwargs)\u001b[0m\n\u001b[0;32m    335\u001b[0m     reader \u001b[38;5;241m=\u001b[39m fiona\u001b[38;5;241m.\u001b[39mopen\n\u001b[0;32m    337\u001b[0m \u001b[38;5;28;01mwith\u001b[39;00m fiona_env():\n\u001b[1;32m--> 338\u001b[0m     \u001b[38;5;28;01mwith\u001b[39;00m reader(path_or_bytes, \u001b[38;5;241m*\u001b[39m\u001b[38;5;241m*\u001b[39mkwargs) \u001b[38;5;28;01mas\u001b[39;00m features:\n\u001b[0;32m    339\u001b[0m         crs \u001b[38;5;241m=\u001b[39m features\u001b[38;5;241m.\u001b[39mcrs_wkt\n\u001b[0;32m    340\u001b[0m         \u001b[38;5;66;03m# attempt to get EPSG code\u001b[39;00m\n",
      "File \u001b[1;32m~\\anaconda3\\Lib\\site-packages\\fiona\\env.py:457\u001b[0m, in \u001b[0;36mensure_env_with_credentials.<locals>.wrapper\u001b[1;34m(*args, **kwds)\u001b[0m\n\u001b[0;32m    454\u001b[0m     session \u001b[38;5;241m=\u001b[39m DummySession()\n\u001b[0;32m    456\u001b[0m \u001b[38;5;28;01mwith\u001b[39;00m env_ctor(session\u001b[38;5;241m=\u001b[39msession):\n\u001b[1;32m--> 457\u001b[0m     \u001b[38;5;28;01mreturn\u001b[39;00m f(\u001b[38;5;241m*\u001b[39margs, \u001b[38;5;241m*\u001b[39m\u001b[38;5;241m*\u001b[39mkwds)\n",
      "File \u001b[1;32m~\\anaconda3\\Lib\\site-packages\\fiona\\__init__.py:305\u001b[0m, in \u001b[0;36mopen\u001b[1;34m(fp, mode, driver, schema, crs, encoding, layer, vfs, enabled_drivers, crs_wkt, allow_unsupported_drivers, **kwargs)\u001b[0m\n\u001b[0;32m    302\u001b[0m     path \u001b[38;5;241m=\u001b[39m parse_path(fp)\n\u001b[0;32m    304\u001b[0m \u001b[38;5;28;01mif\u001b[39;00m mode \u001b[38;5;129;01min\u001b[39;00m (\u001b[38;5;124m\"\u001b[39m\u001b[38;5;124ma\u001b[39m\u001b[38;5;124m\"\u001b[39m, \u001b[38;5;124m\"\u001b[39m\u001b[38;5;124mr\u001b[39m\u001b[38;5;124m\"\u001b[39m):\n\u001b[1;32m--> 305\u001b[0m     colxn \u001b[38;5;241m=\u001b[39m Collection(\n\u001b[0;32m    306\u001b[0m         path,\n\u001b[0;32m    307\u001b[0m         mode,\n\u001b[0;32m    308\u001b[0m         driver\u001b[38;5;241m=\u001b[39mdriver,\n\u001b[0;32m    309\u001b[0m         encoding\u001b[38;5;241m=\u001b[39mencoding,\n\u001b[0;32m    310\u001b[0m         layer\u001b[38;5;241m=\u001b[39mlayer,\n\u001b[0;32m    311\u001b[0m         enabled_drivers\u001b[38;5;241m=\u001b[39menabled_drivers,\n\u001b[0;32m    312\u001b[0m         allow_unsupported_drivers\u001b[38;5;241m=\u001b[39mallow_unsupported_drivers,\n\u001b[0;32m    313\u001b[0m         \u001b[38;5;241m*\u001b[39m\u001b[38;5;241m*\u001b[39mkwargs\n\u001b[0;32m    314\u001b[0m     )\n\u001b[0;32m    315\u001b[0m \u001b[38;5;28;01melif\u001b[39;00m mode \u001b[38;5;241m==\u001b[39m \u001b[38;5;124m\"\u001b[39m\u001b[38;5;124mw\u001b[39m\u001b[38;5;124m\"\u001b[39m:\n\u001b[0;32m    316\u001b[0m     colxn \u001b[38;5;241m=\u001b[39m Collection(\n\u001b[0;32m    317\u001b[0m         path,\n\u001b[0;32m    318\u001b[0m         mode,\n\u001b[1;32m   (...)\u001b[0m\n\u001b[0;32m    327\u001b[0m         \u001b[38;5;241m*\u001b[39m\u001b[38;5;241m*\u001b[39mkwargs\n\u001b[0;32m    328\u001b[0m     )\n",
      "File \u001b[1;32m~\\anaconda3\\Lib\\site-packages\\fiona\\collection.py:243\u001b[0m, in \u001b[0;36mCollection.__init__\u001b[1;34m(self, path, mode, driver, schema, crs, encoding, layer, vsi, archive, enabled_drivers, crs_wkt, ignore_fields, ignore_geometry, include_fields, wkt_version, allow_unsupported_drivers, **kwargs)\u001b[0m\n\u001b[0;32m    241\u001b[0m \u001b[38;5;28;01mif\u001b[39;00m \u001b[38;5;28mself\u001b[39m\u001b[38;5;241m.\u001b[39mmode \u001b[38;5;241m==\u001b[39m \u001b[38;5;124m\"\u001b[39m\u001b[38;5;124mr\u001b[39m\u001b[38;5;124m\"\u001b[39m:\n\u001b[0;32m    242\u001b[0m     \u001b[38;5;28mself\u001b[39m\u001b[38;5;241m.\u001b[39msession \u001b[38;5;241m=\u001b[39m Session()\n\u001b[1;32m--> 243\u001b[0m     \u001b[38;5;28mself\u001b[39m\u001b[38;5;241m.\u001b[39msession\u001b[38;5;241m.\u001b[39mstart(\u001b[38;5;28mself\u001b[39m, \u001b[38;5;241m*\u001b[39m\u001b[38;5;241m*\u001b[39mkwargs)\n\u001b[0;32m    244\u001b[0m \u001b[38;5;28;01melif\u001b[39;00m \u001b[38;5;28mself\u001b[39m\u001b[38;5;241m.\u001b[39mmode \u001b[38;5;129;01min\u001b[39;00m (\u001b[38;5;124m\"\u001b[39m\u001b[38;5;124ma\u001b[39m\u001b[38;5;124m\"\u001b[39m, \u001b[38;5;124m\"\u001b[39m\u001b[38;5;124mw\u001b[39m\u001b[38;5;124m\"\u001b[39m):\n\u001b[0;32m    245\u001b[0m     \u001b[38;5;28mself\u001b[39m\u001b[38;5;241m.\u001b[39msession \u001b[38;5;241m=\u001b[39m WritingSession()\n",
      "File \u001b[1;32mfiona\\\\ogrext.pyx:588\u001b[0m, in \u001b[0;36mfiona.ogrext.Session.start\u001b[1;34m()\u001b[0m\n",
      "File \u001b[1;32mfiona\\\\ogrext.pyx:143\u001b[0m, in \u001b[0;36mfiona.ogrext.gdal_open_vector\u001b[1;34m()\u001b[0m\n",
      "\u001b[1;31mDriverError\u001b[0m: C:/Users/PC14/Documents/GitHub/QLAB_Summer_Python/_data/INEI_LIMITE_DEPARTAMENTAL/INEI_LIMITE_DEPARTAMENTAL.shp: No such file or directory"
     ]
    }
   ],
   "source": [
    "dpt_shp = gpd.read_file('C:/Users/PC14/Documents/GitHub/QLAB_Summer_Python/_data/INEI_LIMITE_DEPARTAMENTAL/INEI_LIMITE_DEPARTAMENTAL.shp')"
   ]
  },
  {
   "cell_type": "markdown",
   "id": "6810eecb",
   "metadata": {},
   "source": [
    "Ahora realizamos el merge con el df2 que habíamos definido anteriormente"
   ]
  },
  {
   "cell_type": "code",
   "execution_count": null,
   "id": "1d8bdfda",
   "metadata": {},
   "outputs": [],
   "source": [
    "df3 = dpt_shp.merge(df2, left_on='CCDD', right_on='dpt_code')\n",
    "# Creamos el mapa con folium\n",
    "peru_map = folium.Map(location=[-9.1900, -75.0152], zoom_start=6)"
   ]
  },
  {
   "cell_type": "markdown",
   "id": "0f68ce09",
   "metadata": {},
   "source": [
    "Tenmos que añadir el GeoDataframe al mapa que tenemos, luego el layer control (el cual nos permite controlar qué capas están visibles en nuestro mapa interactivo)"
   ]
  },
  {
   "cell_type": "code",
   "execution_count": null,
   "id": "fdee3aea",
   "metadata": {},
   "outputs": [],
   "source": [
    "folium.GeoJson(df3,\n",
    "               name='geojson',\n",
    "               style_function=lambda x: {'fillColor': 'red', 'color': 'black', 'weight': 2, 'dashArray': '5, 5'},\n",
    "               highlight_function=lambda x: {'weight': 3, 'color': 'blue'},\n",
    "               tooltip=folium.features.GeoJsonTooltip(fields=['women_empl'],\n",
    "                                                      aliases=['Women Employment'],\n",
    "                                                      labels=True,\n",
    "                                                      sticky=True)\n",
    "               ).add_to(peru_map)\n",
    "\n",
    "folium.LayerControl().add_to(peru_map)"
   ]
  },
  {
   "cell_type": "markdown",
   "id": "a726eef5",
   "metadata": {},
   "source": [
    "Ahora convertimos el gráfico de matplotlib a un objeto folium usando plugins, guardamos el mapa interactivo e imprimimos"
   ]
  },
  {
   "cell_type": "code",
   "execution_count": null,
   "id": "9a5ec79e",
   "metadata": {},
   "outputs": [],
   "source": [
    "fig, ax = plt.subplots(figsize=(20, 20))\n",
    "df3.plot(ax=ax, column='women_empl', cmap='Reds', linestyle='--', edgecolor='black', legend=True)\n",
    "\n",
    "folium.plugins.MiniMap().add_to(peru_map)\n",
    "\n",
    "peru_map.save('peru_map_combined.html')\n",
    "peru_map"
   ]
  },
  {
   "cell_type": "markdown",
   "id": "737f7378",
   "metadata": {},
   "source": [
    "Para la nueva parte del df3 se vuelve a crear el mapa y traspasarlo al folium"
   ]
  },
  {
   "cell_type": "code",
   "execution_count": null,
   "id": "0c2afa21",
   "metadata": {},
   "outputs": [],
   "source": [
    "# Creamos el mapa con folium\n",
    "peru_map1 = folium.Map(location=[-9.1900, -75.0152], zoom_start=6)\n",
    "\n",
    "folium.GeoJson(df3,\n",
    "               name='geojson',\n",
    "               style_function=lambda x: {'fillColor': 'red', 'color': 'black', 'weight': 2, 'dashArray': '5, 5'},\n",
    "               highlight_function=lambda x: {'weight': 3, 'color': 'blue'},\n",
    "               tooltip=folium.features.GeoJsonTooltip(fields=['women_empl'],\n",
    "                                                      aliases=['Women Employment'],\n",
    "                                                      labels=True,\n",
    "                                                      sticky=True)\n",
    "               ).add_to(peru_map1)\n",
    "\n",
    "folium.LayerControl().add_to(peru_map1)"
   ]
  },
  {
   "cell_type": "markdown",
   "id": "14890ced",
   "metadata": {},
   "source": [
    "Finalmente se replica el formato de pandas y se transforma en tipo folium "
   ]
  },
  {
   "cell_type": "code",
   "execution_count": null,
   "id": "2046d544",
   "metadata": {},
   "outputs": [],
   "source": [
    "fig, ax = plt.subplots(figsize=(20, 20))\n",
    "df3.plot( ax = ax, column='women_empl', cmap= 'Reds', figsize=(20, 20), linestyle='--', \n",
    "edgecolor='black', legend = True, scheme = \"User_Defined\", \n",
    "         classification_kwds = dict( bins = [ 20000, 40000, 60000, 100000  ] ), \n",
    "        legend_kwds = dict(  loc='upper left',\n",
    "                            bbox_to_anchor=(1.01, 1),\n",
    "                            fontsize='x-large',\n",
    "                            title= \"Number of Employers\", \n",
    "                            title_fontsize = 'x-large', \n",
    "                            frameon= False )\n",
    "        )\n",
    "folium.plugins.MiniMap().add_to(peru_map1)\n",
    "\n",
    "peru_map.save('peru_map1_combined.html')\n",
    "peru_map1"
   ]
  },
  {
   "cell_type": "markdown",
   "id": "00081302",
   "metadata": {},
   "source": [
    "Esto viene a ser otra forma de realizar el proceso. Pues para esto se se plantea como si el proceso fuese desde el inicio"
   ]
  },
  {
   "cell_type": "code",
   "execution_count": null,
   "id": "658d9991",
   "metadata": {},
   "outputs": [],
   "source": [
    "import folium\n",
    "from folium import Choropleth, GeoJson\n",
    "\n",
    "# Filtro los datos para CCDD diferente de \"15\"\n",
    "filtered_df = df3[df3['CCDD'] != \"15\"]\n",
    "\n",
    "# Creo el mapa centrado en la ubicación media de tus datos\n",
    "centroid_lat = filtered_df.to_crs(epsg='4326').geometry.centroid.y.mean()\n",
    "centroid_lon = filtered_df.to_crs(epsg='4326').geometry.centroid.x.mean()\n",
    "m = folium.Map(location=[centroid_lat, centroid_lon], zoom_start=6)\n",
    "#se le asigna el nombre m al folium para no poner una palabra en cada momento que se menciona de diversas ocaciones"
   ]
  },
  {
   "cell_type": "code",
   "execution_count": null,
   "id": "b156687b",
   "metadata": {},
   "outputs": [],
   "source": [
    "# Añado la capa de coropleta\n",
    "Choropleth(\n",
    "    geo_data=filtered_df,\n",
    "    data=filtered_df,\n",
    "    columns=['geometry', 'women_empl'],\n",
    "    key_on='feature.properties.women_empl',\n",
    "    fill_color='Reds',\n",
    "    fill_opacity=0.7,\n",
    "    line_opacity=0.2,\n",
    "    legend_name='Number of Employers',\n",
    "    line_color='black',\n",
    "    line_dash='--',\n",
    "    edgecolor='black',\n",
    "    name='Women Employment',\n",
    ").add_to(m)\n",
    "\n",
    "# Añado el límite de las áreas geográficas\n",
    "GeoJson(\n",
    "    filtered_df,\n",
    "    name='geojson',\n",
    "    style_function=lambda x: {\n",
    "        'color': 'black',\n",
    "        'weight': 2,\n",
    "        'dashArray': '5, 5',\n",
    "    },\n",
    ").add_to(m)\n",
    "\n",
    "folium.LayerControl().add_to(m)\n",
    "\n",
    "# Guardar el mapa\n",
    "m.save('map_filtered.html')\n",
    "m"
   ]
  },
  {
   "cell_type": "markdown",
   "id": "95598edc",
   "metadata": {},
   "source": [
    "# Parte 2"
   ]
  },
  {
   "cell_type": "code",
   "execution_count": null,
   "id": "324db23d",
   "metadata": {},
   "outputs": [],
   "source": [
    "pip install folium branca matplotlib"
   ]
  },
  {
   "cell_type": "code",
   "execution_count": null,
   "id": "3b82b9b0",
   "metadata": {},
   "outputs": [],
   "source": [
    "df4 = sex_work.groupby(['dpt_code', 'month', 'sex'], as_index=False)[['empl']].sum() \\\n",
    "        .pivot(index=['dpt_code', 'month'], columns='sex', values='empl') \\\n",
    "        .reset_index()"
   ]
  },
  {
   "cell_type": "code",
   "execution_count": null,
   "id": "6b5363bd",
   "metadata": {},
   "outputs": [],
   "source": [
    "df4"
   ]
  },
  {
   "cell_type": "code",
   "execution_count": null,
   "id": "85922faf",
   "metadata": {},
   "outputs": [],
   "source": [
    "df4[ 'prop_wom' ] = ( df4.Mujer * 100 / df4.Hombre )"
   ]
  },
  {
   "cell_type": "code",
   "execution_count": 19,
   "id": "22ad9dab",
   "metadata": {},
   "outputs": [
    {
     "ename": "NameError",
     "evalue": "name 'dpt_shp' is not defined",
     "output_type": "error",
     "traceback": [
      "\u001b[1;31m---------------------------------------------------------------------------\u001b[0m",
      "\u001b[1;31mNameError\u001b[0m                                 Traceback (most recent call last)",
      "Cell \u001b[1;32mIn[19], line 1\u001b[0m\n\u001b[1;32m----> 1\u001b[0m df5 \u001b[38;5;241m=\u001b[39m dpt_shp\u001b[38;5;241m.\u001b[39mmerge( df4, left_on \u001b[38;5;241m=\u001b[39m \u001b[38;5;124m'\u001b[39m\u001b[38;5;124mCCDD\u001b[39m\u001b[38;5;124m'\u001b[39m, right_on \u001b[38;5;241m=\u001b[39m \u001b[38;5;124m'\u001b[39m\u001b[38;5;124mdpt_code\u001b[39m\u001b[38;5;124m'\u001b[39m  )\n\u001b[0;32m      2\u001b[0m \u001b[38;5;66;03m# Creamos el mapa con folium\u001b[39;00m\n\u001b[0;32m      3\u001b[0m peru_map \u001b[38;5;241m=\u001b[39m folium\u001b[38;5;241m.\u001b[39mMap(location\u001b[38;5;241m=\u001b[39m[\u001b[38;5;241m-\u001b[39m\u001b[38;5;241m9.1900\u001b[39m, \u001b[38;5;241m-\u001b[39m\u001b[38;5;241m75.0152\u001b[39m], zoom_start\u001b[38;5;241m=\u001b[39m\u001b[38;5;241m6\u001b[39m)\n",
      "\u001b[1;31mNameError\u001b[0m: name 'dpt_shp' is not defined"
     ]
    }
   ],
   "source": [
    "df5 = dpt_shp.merge( df4, left_on = 'CCDD', right_on = 'dpt_code'  )\n",
    "# Creamos el mapa con folium\n",
    "peru_map = folium.Map(location=[-9.1900, -75.0152], zoom_start=6)"
   ]
  },
  {
   "cell_type": "code",
   "execution_count": null,
   "id": "e1144e8e",
   "metadata": {},
   "outputs": [],
   "source": [
    "folium.GeoJson(df5,\n",
    "               name='geojson',\n",
    "               style_function=lambda x: {'fillColor': 'red', 'color': 'black', 'weight': 2, 'dashArray': '5, 5'},\n",
    "               highlight_function=lambda x: {'weight': 3, 'color': 'blue'},\n",
    "               tooltip=folium.features.GeoJsonTooltip(fields=['women_empl'],\n",
    "                                                      aliases=['Women Employment'],\n",
    "                                                      labels=True,\n",
    "                                                      sticky=True)\n",
    "               ).add_to(peru_map)\n",
    "\n",
    "folium.LayerControl().add_to(peru_map)"
   ]
  },
  {
   "cell_type": "code",
   "execution_count": 18,
   "id": "90b7d609",
   "metadata": {},
   "outputs": [
    {
     "ename": "NameError",
     "evalue": "name 'df5' is not defined",
     "output_type": "error",
     "traceback": [
      "\u001b[1;31m---------------------------------------------------------------------------\u001b[0m",
      "\u001b[1;31mNameError\u001b[0m                                 Traceback (most recent call last)",
      "Cell \u001b[1;32mIn[18], line 32\u001b[0m\n\u001b[0;32m     29\u001b[0m \u001b[38;5;28;01mfor\u001b[39;00m j \u001b[38;5;129;01min\u001b[39;00m \u001b[38;5;28mrange\u001b[39m(\u001b[38;5;241m3\u001b[39m):\n\u001b[0;32m     30\u001b[0m     ax \u001b[38;5;241m=\u001b[39m axis[i, j]\n\u001b[1;32m---> 32\u001b[0m     \u001b[38;5;28;01mif\u001b[39;00m idx \u001b[38;5;241m<\u001b[39m \u001b[38;5;28mlen\u001b[39m(df5[\u001b[38;5;124m'\u001b[39m\u001b[38;5;124mmonth\u001b[39m\u001b[38;5;124m'\u001b[39m]\u001b[38;5;241m.\u001b[39munique()):\n\u001b[0;32m     33\u001b[0m         month \u001b[38;5;241m=\u001b[39m df5[\u001b[38;5;124m'\u001b[39m\u001b[38;5;124mmonth\u001b[39m\u001b[38;5;124m'\u001b[39m]\u001b[38;5;241m.\u001b[39munique()[idx]\n\u001b[0;32m     34\u001b[0m         df6 \u001b[38;5;241m=\u001b[39m df5[df5[\u001b[38;5;124m'\u001b[39m\u001b[38;5;124mmonth\u001b[39m\u001b[38;5;124m'\u001b[39m] \u001b[38;5;241m==\u001b[39m month]\n",
      "\u001b[1;31mNameError\u001b[0m: name 'df5' is not defined"
     ]
    },
    {
     "data": {
      "image/png": "[encoded data removed]",
      "text/plain": [
       "<Figure size 1500x1500 with 12 Axes>"
      ]
     },
     "metadata": {},
     "output_type": "display_data"
    }
   ],
   "source": [
    "def create_folium_map(df_month, month):\n",
    "    df_json = df_month.to_json()\n",
    "    # Create the Map instance\n",
    "    m = folium.Map(location=[-9.1900, -75.0152], zoom_start=6)\n",
    "    colormap = linear.YlOrRd_09.scale(df_month['prop_wom'].min(), df_month['prop_wom'].max())\n",
    "    folium.GeoJson(\n",
    "        df_json,\n",
    "        name=f'Women Employment - {month}',\n",
    "        style_function=lambda feature: {\n",
    "            'fillColor': colormap(feature['properties']['prop_wom']),\n",
    "            'color': 'black',\n",
    "            'weight': 2,\n",
    "            'dashArray': '5, 5'\n",
    "        }\n",
    "    ).add_to(m)\n",
    "\n",
    "    colormap.add_to(m)\n",
    "    html_file = f\"map_{month}.html\"\n",
    "    m.save(html_file)\n",
    "    return html_file\n",
    "\n",
    "# Crear subgráficos de Matplotlib\n",
    "fig, axis = plt.subplots(nrows=4, ncols=3, figsize=(15, 15))\n",
    "\n",
    "idx = 0\n",
    "html_files = []  # Almacena nombres de archivos HTML\n",
    "\n",
    "for i in range(4):\n",
    "    for j in range(3):\n",
    "        ax = axis[i, j]\n",
    "\n",
    "        if idx < len(df5['month'].unique()):\n",
    "            month = df5['month'].unique()[idx]\n",
    "            df6 = df5[df5['month'] == month]\n",
    "\n",
    "            html_file = create_folium_map(df6, month)\n",
    "            html_files.append(html_file)  # Almacena nombres de archivos HTML\n",
    "\n",
    "            ax.set_title(month)\n",
    "\n",
    "        idx += 1\n",
    "\n",
    "# Imprime los enlaces HTML\n",
    "for file in html_files:\n",
    "    print(file)"
   ]
  },
  {
   "cell_type": "markdown",
   "id": "8be835c5",
   "metadata": {},
   "source": [
    "## Parte 3"
   ]
  },
  {
   "cell_type": "code",
   "execution_count": null,
   "id": "d20215d1",
   "metadata": {},
   "outputs": [],
   "source": [
    "from textwrap import wrap"
   ]
  },
  {
   "cell_type": "code",
   "execution_count": null,
   "id": "966c072e",
   "metadata": {},
   "outputs": [],
   "source": [
    "# Inverting colour map\n",
    "cmap = plt.cm.OrRd"
   ]
  },
  {
   "cell_type": "markdown",
   "id": "11af2aa0",
   "metadata": {},
   "source": [
    "Se repite uno de los procesos realizados en parte 1"
   ]
  },
  {
   "cell_type": "code",
   "execution_count": null,
   "id": "f9acf0ec",
   "metadata": {},
   "outputs": [],
   "source": [
    "# Creamos el mapa con folium\n",
    "peru_map2 = folium.Map(location=[-9.1900, -75.0152], zoom_start=6)\n",
    "\n",
    "folium.GeoJson(df6,\n",
    "               name='geojson',\n",
    "               style_function=lambda x: {'fillColor': 'red', 'color': 'black', 'weight': 2, 'dashArray': '5, 5'},\n",
    "               highlight_function=lambda x: {'weight': 3, 'color': 'blue'},\n",
    "               tooltip=folium.features.GeoJsonTooltip(fields=['women_empl'],\n",
    "                                                      aliases=['Women Employment'],\n",
    "                                                      labels=True,\n",
    "                                                      sticky=True)\n",
    "               ).add_to(peru_map1)\n",
    "\n",
    "folium.LayerControl().add_to(peru_map1)"
   ]
  },
  {
   "cell_type": "markdown",
   "id": "bf2e609e",
   "metadata": {},
   "source": [
    "Finalmente se utiliza una forma de resolver esta parte "
   ]
  },
  {
   "cell_type": "code",
   "execution_count": 17,
   "id": "46e78186",
   "metadata": {},
   "outputs": [
    {
     "ename": "NameError",
     "evalue": "name 'df6' is not defined",
     "output_type": "error",
     "traceback": [
      "\u001b[1;31m---------------------------------------------------------------------------\u001b[0m",
      "\u001b[1;31mNameError\u001b[0m                                 Traceback (most recent call last)",
      "Cell \u001b[1;32mIn[17], line 2\u001b[0m\n\u001b[0;32m      1\u001b[0m fig, ax \u001b[38;5;241m=\u001b[39m plt\u001b[38;5;241m.\u001b[39msubplots(figsize\u001b[38;5;241m=\u001b[39m(\u001b[38;5;241m20\u001b[39m, \u001b[38;5;241m20\u001b[39m))\n\u001b[1;32m----> 2\u001b[0m df6\u001b[38;5;241m.\u001b[39mplot( ax \u001b[38;5;241m=\u001b[39m ax, \n\u001b[0;32m      3\u001b[0m         column\u001b[38;5;241m=\u001b[39m\u001b[38;5;124m'\u001b[39m\u001b[38;5;124mprop_wom\u001b[39m\u001b[38;5;124m'\u001b[39m, \n\u001b[0;32m      4\u001b[0m          cmap\u001b[38;5;241m=\u001b[39m cmap, \n\u001b[0;32m      5\u001b[0m          figsize\u001b[38;5;241m=\u001b[39m(\u001b[38;5;241m20\u001b[39m, \u001b[38;5;241m20\u001b[39m), \n\u001b[0;32m      6\u001b[0m          linestyle\u001b[38;5;241m=\u001b[39m\u001b[38;5;124m'\u001b[39m\u001b[38;5;124m--\u001b[39m\u001b[38;5;124m'\u001b[39m,\n\u001b[0;32m      7\u001b[0m          edgecolor\u001b[38;5;241m=\u001b[39m\u001b[38;5;124m'\u001b[39m\u001b[38;5;124mblack\u001b[39m\u001b[38;5;124m'\u001b[39m, \n\u001b[0;32m      8\u001b[0m          legend \u001b[38;5;241m=\u001b[39m \u001b[38;5;28;01mTrue\u001b[39;00m,  \n\u001b[0;32m      9\u001b[0m          scheme \u001b[38;5;241m=\u001b[39m \u001b[38;5;124m\"\u001b[39m\u001b[38;5;124mUser_Defined\u001b[39m\u001b[38;5;124m\"\u001b[39m, \n\u001b[0;32m     10\u001b[0m          classification_kwds \u001b[38;5;241m=\u001b[39m \u001b[38;5;28mdict\u001b[39m( bins \u001b[38;5;241m=\u001b[39m [ \u001b[38;5;241m20\u001b[39m, \u001b[38;5;241m30\u001b[39m, \u001b[38;5;241m40\u001b[39m, \u001b[38;5;241m50\u001b[39m,  \u001b[38;5;241m100\u001b[39m ] ), \n\u001b[0;32m     11\u001b[0m          legend_kwds\u001b[38;5;241m=\u001b[39m\u001b[38;5;28mdict\u001b[39m(  loc\u001b[38;5;241m=\u001b[39m\u001b[38;5;124m'\u001b[39m\u001b[38;5;124mupper left\u001b[39m\u001b[38;5;124m'\u001b[39m,\n\u001b[0;32m     12\u001b[0m                             bbox_to_anchor\u001b[38;5;241m=\u001b[39m(\u001b[38;5;241m1.01\u001b[39m, \u001b[38;5;241m1\u001b[39m),\n\u001b[0;32m     13\u001b[0m                             fontsize\u001b[38;5;241m=\u001b[39m\u001b[38;5;124m'\u001b[39m\u001b[38;5;124mx-large\u001b[39m\u001b[38;5;124m'\u001b[39m,\n\u001b[0;32m     14\u001b[0m                             title\u001b[38;5;241m=\u001b[39m \u001b[38;5;124m\"\u001b[39m\u001b[38;5;124mWomen Proportion\u001b[39m\u001b[38;5;124m\"\u001b[39m, \n\u001b[0;32m     15\u001b[0m                             title_fontsize \u001b[38;5;241m=\u001b[39m \u001b[38;5;124m'\u001b[39m\u001b[38;5;124mx-large\u001b[39m\u001b[38;5;124m'\u001b[39m, \n\u001b[0;32m     16\u001b[0m                             frameon\u001b[38;5;241m=\u001b[39m \u001b[38;5;28;01mFalse\u001b[39;00m )\n\u001b[0;32m     17\u001b[0m         )\n\u001b[0;32m     18\u001b[0m folium\u001b[38;5;241m.\u001b[39mplugins\u001b[38;5;241m.\u001b[39mMiniMap()\u001b[38;5;241m.\u001b[39madd_to(peru_map2)\n\u001b[0;32m     20\u001b[0m peru_map\u001b[38;5;241m.\u001b[39msave(\u001b[38;5;124m'\u001b[39m\u001b[38;5;124mperu_map2_combined.html\u001b[39m\u001b[38;5;124m'\u001b[39m)\n",
      "\u001b[1;31mNameError\u001b[0m: name 'df6' is not defined"
     ]
    },
    {
     "data": {
      "image/png": "[encoded data removed]",
      "text/plain": [
       "<Figure size 2000x2000 with 1 Axes>"
      ]
     },
     "metadata": {},
     "output_type": "display_data"
    }
   ],
   "source": [
    "fig, ax = plt.subplots(figsize=(20, 20))\n",
    "df6.plot( ax = ax, \n",
    "        column='prop_wom', \n",
    "         cmap= cmap, \n",
    "         figsize=(20, 20), \n",
    "         linestyle='--',\n",
    "         edgecolor='black', \n",
    "         legend = True,  \n",
    "         scheme = \"User_Defined\", \n",
    "         classification_kwds = dict( bins = [ 20, 30, 40, 50,  100 ] ), \n",
    "         legend_kwds=dict(  loc='upper left',\n",
    "                            bbox_to_anchor=(1.01, 1),\n",
    "                            fontsize='x-large',\n",
    "                            title= \"Women Proportion\", \n",
    "                            title_fontsize = 'x-large', \n",
    "                            frameon= False )\n",
    "        )\n",
    "folium.plugins.MiniMap().add_to(peru_map2)\n",
    "\n",
    "peru_map.save('peru_map2_combined.html')\n",
    "peru_map2\n"
   ]
  },
  {
   "cell_type": "markdown",
   "id": "f3b0ee97",
   "metadata": {},
   "source": [
    "# Parte 4"
   ]
  },
  {
   "cell_type": "code",
   "execution_count": null,
   "id": "41f53d61",
   "metadata": {},
   "outputs": [],
   "source": [
    "!pip install geopandas\n",
    "!pip install folium\n",
    "!pip install mplleaflet\n",
    "import folium\n",
    "import pandas as pd\n",
    "import geopandas as gpd\n",
    "import matplotlib.pyplot as plt\n",
    "from folium import plugins\n",
    "import mplleaflet\n",
    "import branca.colormap as cm\n",
    "from folium.plugins import MiniMap\n",
    "from branca.colormap import LinearColormap"
   ]
  },
  {
   "cell_type": "code",
   "execution_count": null,
   "id": "45d6f895",
   "metadata": {},
   "outputs": [],
   "source": []
  }
 ],
 "metadata": {
  "kernelspec": {
   "display_name": "Python 3 (ipykernel)",
   "language": "python",
   "name": "python3"
  },
  "language_info": {
   "codemirror_mode": {
    "name": "ipython",
    "version": 3
   },
   "file_extension": ".py",
   "mimetype": "text/x-python",
   "name": "python",
   "nbconvert_exporter": "python",
   "pygments_lexer": "ipython3",
   "version": "3.11.5"
  }
 },
 "nbformat": 4,
 "nbformat_minor": 5
}
