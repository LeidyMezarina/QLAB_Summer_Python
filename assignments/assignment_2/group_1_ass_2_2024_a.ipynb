{
 "cells": [
  {
   "cell_type": "markdown",
   "id": "1b8dd22a",
   "metadata": {},
   "source": [
    "## Assignment 2 - Group 1 \n",
    "\n",
    "First of all, we import the libraries to be used in this work:"
   ]
  },
  {
   "cell_type": "code",
   "execution_count": 1,
   "id": "3d3a41c3",
   "metadata": {},
   "outputs": [],
   "source": [
    "import numpy as np\n",
    "import pandas as pd"
   ]
  },
  {
   "cell_type": "markdown",
   "id": "e797ff11",
   "metadata": {},
   "source": [
    "#### Question 1.2 - Lists\n",
    "\n",
    "Let the following data be provided by the problem:"
   ]
  },
  {
   "cell_type": "code",
   "execution_count": 2,
   "id": "17de79f2",
   "metadata": {},
   "outputs": [],
   "source": [
    "f_list = [np.nan , np.nan, \"Austria\", \"Germany\", np.nan, \"Pakistan\", \"np.nan\", np.nan ]\n",
    "text1 = ['My', 'teacher', 'assistant', 'is', 'so', 'boring.']\n",
    "p2_list = [ 2 , 3, 4, 5 ]\n",
    "values1 = [ 86, 86, 85, 85, 85, 83, 23, 0, 84, 1 ] \n",
    "last_and_name = [ \"CORNEJO SANCHEZ, CHRISTIAN SANTOS\", \"ORELLANA QUISPE, CRISTIAN NASSER\", \"MORALES CHOQUEHUANCA, ANGELICA KARINA\", \"GUIMARAY RIBEYRO, JOSE ROBERTO\", \"CAMACHO GAVIDIA, ABEL FERNANDO\", \"TINTAYA ORIHUELA, MEIR ALVARO\", \"CHAVEZ MARTINEZ, JOSELIN ALEXANDRA\", \"FIGUEROA MURO, LEONEL ARTURO\", \"GOMEZ CRIBILLERO, JOSE FELIPE\", \"PALOMINO SEGUÍN, AFRANIA\", \"LUZON CUEVA, BIANCA MARIETTE\", \"SUAÑA ZEGARRA, ADRIAN ANDRE\", \"SOTO POMACHAGUA, DORKAS YOMIRA JHERMY\", \"FIORENTINO MARTINEZ, LADY ALY\", \"LAMA MAVILA, HECTOR ANDRE\", \"MEZA HINOJO, GUSTAVO\", \"LOZADA MURILLO, PERSEO MARCELO\", \"ZAMBRANO JIMENEZ, MIGUEL ALONZO\", \"JACOBS LUQUE, NICOLAS\", \"VIDAL VIDAL, ROCIO GABRIELA\", \"TORRES ANICAMA, JANE CAMILA\", \"LOPEZ ESTRADA, MARIA ELISA\", \"BOYCO ORAMS, ALEJANDRO\", \"DIAZ BERROSPI, KARLINE ROSMELI\", \"RIEGA ESCALANTE, STEPHY ROSARIO\", \"LEVANO TORRES, VALERIA CECILIA\", \"ESQUIVES BRAVO, SEBASTIAN RENATO\", \"PEREZ GONZALES, JUAN CARLOS\", \"OTERO MAGUIÑA, MARIANA\", \"CLAVO CAMPOS, ANDREA BRIZETH\", \"AGUILAR GARCIA, ERICK JOSUE\", \"CALDAS VELASQUEZ, JOSUE DANIEL\", \"SALAS NUÑEZ BORJA, FABIO MANUEL\", \"PIZARRO VILLANES, FERNANDA NICOLLE\", \"QUILLATUPA MORALES, ANGELA ADELINA\", \"HUANCAYA IDONE, CESAR DANTE\", \"CALVO PORTOCARRERO, GABRIELA ISABEL\", \"IBAÑEZ ABANTO, ANGEL MAURICIO\", \"MELÉNDEZ APONTE, JUAN DIEGO\", \"CRISTIAN SERRANO, ARONE\", \"HINOJOSA CAHUANA, PERCY ALBERTH\", \"ANGLAS GARCÍA, KEVIN ARTURO\", \"ALDAVE ACOSTA, CESAR ERNESTO\", \"NÚÑEZ HUAMÁN, CÉSAR AGUSTO\", \"OBREGON HUAMAN, DIANA EDITH\", \"SOTO PACHERRES, RODRIGO FRANCO\", \"INGARUCA RIVERA, GRETTEL ALEXANDRA\", \"ROJAS HUAMAN, ROSA ANGELA\", \"NEYRA SALAS, DANTE OMAR\", \"HUERTA ESPINOZA, YAJAIRA ALEXANDRA\", \"HUANCA MARTINEZ, JORGE ALBERTO\", \"FLORES CADILLO, ALEXIS\" ]\n",
    "emails = [\"cscornejo@pucp.edu.pe\", \"orellana.cn@pucp.edu.pe\", \"karina.morales@pucp.edu.pe\", \"a20083223@pucp.pe\", \"abel.camacho@pucp.pe\", \"mtintaya@pucp.edu.pe\", \"joselin.chavez@pucp.edu.pe\", \"a20105737@pucp.pe\", \"jfgomezc@pucp.pe\", \"afrania.palomino@pucp.pe\", \"luzon.bianca@pucp.pe\", \"adrian.suanaz@pucp.pe\", \"soto.y@pucp.edu.pe\", \"a20132766@pucp.pe\", \"andre.lama@pucp.edu.pe\", \"gustavo.meza@pucp.edu.pe\", \"pmlozada@pucp.edu.pe\", \"m.zambranoj@pucp.edu.pe\", \"nicolas.jacobs@pucp.edu.pe\", \"gvidal@pucp.edu.pe\", \"jane.torres@pucp.edu.pe\", \"m.lopez@pucp.edu.pe\", \"alejandro.boyco@pucp.edu.pe\", \"a20167070@pucp.edu.pe\", \"riega.stephy@pucp.edu.pe\", \"vlevanot@pucp.edu.pe\", \"sesquives@pucp.edu.pe\", \"perez.juanc@pucp.edu.pe\", \"mariana.otero@pucp.edu.pe\", \"aclavo@pucp.edu.pe\", \"a20182474@pucp.edu.pe\", \"josue.caldas@pucp.edu.pe\", \"fabio.salas@pucp.edu.pe\", \"fernanda.pizarro@pucp.edu.pe\", \"aquillatupa@pucp.pe\", \"\", \"\", \"\", \"\", \"\", \"f0873079@pucp.edu.pe\", \"\", \"\", \"\", \"\", \"\", \"\", \"\", \"\", \"\", \"\", \"flores.alexis@pucp.edu.pe\", ]"
   ]
  },
  {
   "cell_type": "markdown",
   "id": "d5f8252a",
   "metadata": {},
   "source": [
    "1. Show the indices of the `np.nan` values  in the `f_list` list. We want to see this output: `The indices 0, 1, 4, 7 have np.nan values.` **Hint: Use print function and [f-strings](https://realpython.com/python-f-strings/) to insert the indices values.**\n",
    "\n",
    "In the following list we try to get a list of booleans where True should appear in the positions where np.nan is found, and False should appear otherwise."
   ]
  },
  {
   "cell_type": "code",
   "execution_count": 3,
   "id": "1154b297",
   "metadata": {},
   "outputs": [
    {
     "ename": "TypeError",
     "evalue": "ufunc 'isnan' not supported for the input types, and the inputs could not be safely coerced to any supported types according to the casting rule ''safe''",
     "output_type": "error",
     "traceback": [
      "\u001b[1;31m---------------------------------------------------------------------------\u001b[0m",
      "\u001b[1;31mTypeError\u001b[0m                                 Traceback (most recent call last)",
      "Cell \u001b[1;32mIn[3], line 1\u001b[0m\n\u001b[1;32m----> 1\u001b[0m a\u001b[38;5;241m=\u001b[39m\u001b[38;5;28;43mlist\u001b[39;49m\u001b[43m(\u001b[49m\u001b[38;5;28;43mmap\u001b[39;49m\u001b[43m(\u001b[49m\u001b[43mnp\u001b[49m\u001b[38;5;241;43m.\u001b[39;49m\u001b[43misnan\u001b[49m\u001b[43m,\u001b[49m\u001b[43mf_list\u001b[49m\u001b[43m)\u001b[49m\u001b[43m)\u001b[49m\n",
      "\u001b[1;31mTypeError\u001b[0m: ufunc 'isnan' not supported for the input types, and the inputs could not be safely coerced to any supported types according to the casting rule ''safe''"
     ]
    }
   ],
   "source": [
    "a=list(map(np.isnan,f_list)) \n",
    "# Let's remember that with the map function the function of the first arguments is applied to each element of the list introduced in the second argument.\n",
    "# With np.isnan you get True when the element is np.nan, False otherwise."
   ]
  },
  {
   "cell_type": "markdown",
   "id": "2074bbb8",
   "metadata": {},
   "source": [
    "You can see that the previous line of code does not work. This is because np.isnan cannot be applied to string objects (and the list provided has these types of objects). To fix this problem we do the following:\n",
    "\n",
    "We define the function `str0` which returns True when the element is not a string, False otherwise. Then we use the `map` function to apply the function made to each element of the `f_list` list."
   ]
  },
  {
   "cell_type": "code",
   "execution_count": 4,
   "id": "ca7bd6f8",
   "metadata": {},
   "outputs": [
    {
     "name": "stdout",
     "output_type": "stream",
     "text": [
      "[True, True, False, False, True, False, False, True]\n"
     ]
    }
   ],
   "source": [
    "def str0(x):\n",
    "    y=type(x)!=str\n",
    "    return y\n",
    "\n",
    "a=list(map(str0,f_list))\n",
    "\n",
    "print(a)"
   ]
  },
  {
   "cell_type": "markdown",
   "id": "9febe20c",
   "metadata": {},
   "source": [
    "Note that the list obtained has True in the positions where there is np.nan and False where there is not. Since the list `f_list` only has two types of objects (strings and np.nan), the function created allows us to differentiate between np.nan and other elements. It wouldn't work if there were other types of items in the list.\n",
    "\n",
    "Now we create the following np.array that contains exclusively the index position of the elements where True appears from the list obtained previously. This action is done precisely with `np.argwhere`."
   ]
  },
  {
   "cell_type": "code",
   "execution_count": 5,
   "id": "a97c1285",
   "metadata": {},
   "outputs": [
    {
     "name": "stdout",
     "output_type": "stream",
     "text": [
      "[[0]\n",
      " [1]\n",
      " [4]\n",
      " [7]]\n"
     ]
    }
   ],
   "source": [
    "b=np.argwhere(a)\n",
    "print(b)"
   ]
  },
  {
   "cell_type": "markdown",
   "id": "03c12bb0",
   "metadata": {},
   "source": [
    "Using the map and int function we convert each element of this array into an integer and save it in a new list."
   ]
  },
  {
   "cell_type": "code",
   "execution_count": 6,
   "id": "5eb7802d",
   "metadata": {},
   "outputs": [
    {
     "name": "stdout",
     "output_type": "stream",
     "text": [
      "[0, 1, 4, 7]\n"
     ]
    }
   ],
   "source": [
    "b=list(map(int,b))\n",
    "print(b)"
   ]
  },
  {
   "cell_type": "markdown",
   "id": "d8b32e9c",
   "metadata": {},
   "source": [
    "Now, using f-strings we print the text requested by the question."
   ]
  },
  {
   "cell_type": "code",
   "execution_count": 7,
   "id": "1a420632",
   "metadata": {},
   "outputs": [
    {
     "name": "stdout",
     "output_type": "stream",
     "text": [
      "The indices 0, 1, 4, 7 have np.nan values.\n"
     ]
    }
   ],
   "source": [
    "print(f'The indices {\", \".join(map(str, b))} have np.nan values.')"
   ]
  },
  {
   "cell_type": "markdown",
   "id": "a1c06b72",
   "metadata": {},
   "source": [
    "Notice that inside the braces is placed `\", \".join(map(str, b))`. Precisely, this command allows us to obtain a string in which each element b converted into a string (thanks to the `map` and `str` function) is combined into a single string in which each element is also separated by \", \". Therefore, the comeand returns in summary \"0, 1, 4, 7\".\n",
    "\n",
    "2. Replicate 4 times the values of the list `p2_list`. We expect an ouput like this: `[2, 3, 4, 5, 2, 3, 4, 5, 2, 3, 4, 5, 2, 3, 4, 5]`.  **Hint: Use multiplication function in `lists` and see the output.**\n",
    "\n",
    "We can do this simply with the following lines of code:"
   ]
  },
  {
   "cell_type": "code",
   "execution_count": 8,
   "id": "31176db3",
   "metadata": {},
   "outputs": [
    {
     "name": "stdout",
     "output_type": "stream",
     "text": [
      "[2, 3, 4, 5, 2, 3, 4, 5, 2, 3, 4, 5, 2, 3, 4, 5]\n"
     ]
    }
   ],
   "source": [
    "p2_list_1= p2_list*4\n",
    "print(p2_list_1)"
   ]
  },
  {
   "cell_type": "markdown",
   "id": "3130c52f",
   "metadata": {},
   "source": [
    "Using list multiplication using `*4` can duplicate the provided list 4 times.\n",
    "\n",
    "3. Print the length of `f_list`. **Hint: Length function**\n",
    "\n",
    "We can do this simply with the following line of code:"
   ]
  },
  {
   "cell_type": "code",
   "execution_count": 9,
   "id": "0ddb34f6",
   "metadata": {},
   "outputs": [
    {
     "name": "stdout",
     "output_type": "stream",
     "text": [
      "8\n"
     ]
    }
   ],
   "source": [
    "print(len(f_list)) "
   ]
  },
  {
   "cell_type": "markdown",
   "id": "7056c371",
   "metadata": {},
   "source": [
    "Where `len` is the length function which returns the number of elements in the list. And let's remember that with the `print` function we can print the result of the operation in the output.\n",
    "\n",
    "4. Print `My teacher assistant is so boring.` using `text1` list. **Hint: Use the [`join` function](https://stackoverflow.com/questions/493819/why-is-it-string-joinlist-instead-of-list-joinstring)**\n",
    "\n",
    "We can do this simply with the following line of code:"
   ]
  },
  {
   "cell_type": "code",
   "execution_count": 10,
   "id": "ce212151",
   "metadata": {},
   "outputs": [
    {
     "data": {
      "text/plain": [
       "'My teacher assistant is so boring.'"
      ]
     },
     "execution_count": 10,
     "metadata": {},
     "output_type": "execute_result"
    }
   ],
   "source": [
    "' '.join(text1)"
   ]
  },
  {
   "cell_type": "markdown",
   "id": "d5a817e2",
   "metadata": {},
   "source": [
    "Remember that with the join method (which is applied to strings) we manage to obtain a single string that joins the elements contained in the list provided in the input (in this case `text1`) and these elements in turn are separated by the string called at the beginning, in this case being `\" \"`. This is why the printed result is obtained.\n",
    "\n",
    "5. Print `My TA is so boring, but is very funny.` using `text1` list.**Hint: Use the `join` function, and `extend` method.**\n",
    "\n",
    "First we extend the provided word list with the new words required for printing. For this we use the `extend` method."
   ]
  },
  {
   "cell_type": "code",
   "execution_count": 11,
   "id": "41bfd983",
   "metadata": {},
   "outputs": [],
   "source": [
    "text1.extend(['but', 'is', 'very', 'funny.'])"
   ]
  },
  {
   "cell_type": "markdown",
   "id": "1b6ffcab",
   "metadata": {},
   "source": [
    "Finally, we use the `join` method again to create the required string. Additionally, we use the `replace` method to replace some parts of the string with others to obtain one equal to the one requested."
   ]
  },
  {
   "cell_type": "code",
   "execution_count": 12,
   "id": "ca25e1d6",
   "metadata": {},
   "outputs": [
    {
     "data": {
      "text/plain": [
       "'My TA is so boring, but is very funny.'"
      ]
     },
     "execution_count": 12,
     "metadata": {},
     "output_type": "execute_result"
    }
   ],
   "source": [
    "' '.join(text1).replace('g. ','g, ').replace('teacher assistant','TA')"
   ]
  },
  {
   "cell_type": "markdown",
   "id": "58845d9e",
   "metadata": {},
   "source": [
    "6. Print <br>\n",
    "`The max value of values1 is 86 and is located in the 0 index. ` <br>\n",
    "`The min value of values1 is 0 and is located in the 7 index. ` <br> **Hint: Use the `f-string`, `min`, and `max` functions.**\n",
    "<br>\n",
    "\n",
    "We define the following:"
   ]
  },
  {
   "cell_type": "code",
   "execution_count": 13,
   "id": "84184dd0",
   "metadata": {},
   "outputs": [],
   "source": [
    "m_1=max(values1)\n",
    "m_2=values1.index(m_1)\n",
    "\n",
    "m_3=min(values1)\n",
    "m_4=values1.index(m_3)"
   ]
  },
  {
   "cell_type": "markdown",
   "id": "4440748d",
   "metadata": {},
   "source": [
    "With the functions `max` and `min` we obtain the maximum and minimum value respectively within the list `values1`. Then with the `index` method we obtain the numerical position where these values are located.\n",
    "\n",
    "With these values saved in `m_1`, `m_2`, `m_3` and `m_4` we print the required strings."
   ]
  },
  {
   "cell_type": "code",
   "execution_count": 14,
   "id": "d0d54c42",
   "metadata": {},
   "outputs": [
    {
     "name": "stdout",
     "output_type": "stream",
     "text": [
      "The max value of values1 is 86 and is located in the 0 index.\n",
      "The min value of values1 is 0 and is located in the 7 index.\n"
     ]
    }
   ],
   "source": [
    "print(f'The max value of values1 is {m_1} and is located in the {m_2} index.')\n",
    "print(f'The min value of values1 is {m_3} and is located in the {m_4} index.')"
   ]
  },
  {
   "cell_type": "markdown",
   "id": "eec7182d",
   "metadata": {},
   "source": [
    "7. Get two lists: `names` and `last_names` using `last_and_name` list. **Hint: Use `map` and `split`.**\n",
    "\n",
    "First we define the following function:"
   ]
  },
  {
   "cell_type": "code",
   "execution_count": 15,
   "id": "684861d6",
   "metadata": {},
   "outputs": [],
   "source": [
    "def split(x):\n",
    "    y=x.split(',')\n",
    "    return y"
   ]
  },
  {
   "cell_type": "markdown",
   "id": "e638353b",
   "metadata": {},
   "source": [
    "With this function a string would be separated into parts, where the separator element would be `,`.\n",
    "\n",
    "We apply this function to each string element of `last_and_name` to separate first names from last names (which are conveniently strings divided by a comma)."
   ]
  },
  {
   "cell_type": "code",
   "execution_count": 16,
   "id": "bea96069",
   "metadata": {},
   "outputs": [
    {
     "name": "stdout",
     "output_type": "stream",
     "text": [
      "[['CORNEJO SANCHEZ', ' CHRISTIAN SANTOS'], ['ORELLANA QUISPE', ' CRISTIAN NASSER'], ['MORALES CHOQUEHUANCA', ' ANGELICA KARINA'], ['GUIMARAY RIBEYRO', ' JOSE ROBERTO'], ['CAMACHO GAVIDIA', ' ABEL FERNANDO'], ['TINTAYA ORIHUELA', ' MEIR ALVARO'], ['CHAVEZ MARTINEZ', ' JOSELIN ALEXANDRA'], ['FIGUEROA MURO', ' LEONEL ARTURO'], ['GOMEZ CRIBILLERO', ' JOSE FELIPE'], ['PALOMINO SEGUÍN', ' AFRANIA'], ['LUZON CUEVA', ' BIANCA MARIETTE'], ['SUAÑA ZEGARRA', ' ADRIAN ANDRE'], ['SOTO POMACHAGUA', ' DORKAS YOMIRA JHERMY'], ['FIORENTINO MARTINEZ', ' LADY ALY'], ['LAMA MAVILA', ' HECTOR ANDRE'], ['MEZA HINOJO', ' GUSTAVO'], ['LOZADA MURILLO', ' PERSEO MARCELO'], ['ZAMBRANO JIMENEZ', ' MIGUEL ALONZO'], ['JACOBS LUQUE', ' NICOLAS'], ['VIDAL VIDAL', ' ROCIO GABRIELA'], ['TORRES ANICAMA', ' JANE CAMILA'], ['LOPEZ ESTRADA', ' MARIA ELISA'], ['BOYCO ORAMS', ' ALEJANDRO'], ['DIAZ BERROSPI', ' KARLINE ROSMELI'], ['RIEGA ESCALANTE', ' STEPHY ROSARIO'], ['LEVANO TORRES', ' VALERIA CECILIA'], ['ESQUIVES BRAVO', ' SEBASTIAN RENATO'], ['PEREZ GONZALES', ' JUAN CARLOS'], ['OTERO MAGUIÑA', ' MARIANA'], ['CLAVO CAMPOS', ' ANDREA BRIZETH'], ['AGUILAR GARCIA', ' ERICK JOSUE'], ['CALDAS VELASQUEZ', ' JOSUE DANIEL'], ['SALAS NUÑEZ BORJA', ' FABIO MANUEL'], ['PIZARRO VILLANES', ' FERNANDA NICOLLE'], ['QUILLATUPA MORALES', ' ANGELA ADELINA'], ['HUANCAYA IDONE', ' CESAR DANTE'], ['CALVO PORTOCARRERO', ' GABRIELA ISABEL'], ['IBAÑEZ ABANTO', ' ANGEL MAURICIO'], ['MELÉNDEZ APONTE', ' JUAN DIEGO'], ['CRISTIAN SERRANO', ' ARONE'], ['HINOJOSA CAHUANA', ' PERCY ALBERTH'], ['ANGLAS GARCÍA', ' KEVIN ARTURO'], ['ALDAVE ACOSTA', ' CESAR ERNESTO'], ['NÚÑEZ HUAMÁN', ' CÉSAR AGUSTO'], ['OBREGON HUAMAN', ' DIANA EDITH'], ['SOTO PACHERRES', ' RODRIGO FRANCO'], ['INGARUCA RIVERA', ' GRETTEL ALEXANDRA'], ['ROJAS HUAMAN', ' ROSA ANGELA'], ['NEYRA SALAS', ' DANTE OMAR'], ['HUERTA ESPINOZA', ' YAJAIRA ALEXANDRA'], ['HUANCA MARTINEZ', ' JORGE ALBERTO'], ['FLORES CADILLO', ' ALEXIS']]\n"
     ]
    }
   ],
   "source": [
    "last_and_name_1 = list(map(split,last_and_name))\n",
    "print(last_and_name_1)"
   ]
  },
  {
   "cell_type": "markdown",
   "id": "b8db5b62",
   "metadata": {},
   "source": [
    "However, we still get a single list. To create the two lists requested, we create the following two functions:"
   ]
  },
  {
   "cell_type": "code",
   "execution_count": 17,
   "id": "74ac4912",
   "metadata": {},
   "outputs": [],
   "source": [
    "def get_first(x):\n",
    "    y=x[0]\n",
    "    return y\n",
    "\n",
    "def get_second(x):\n",
    "    y=x[1]\n",
    "    return y"
   ]
  },
  {
   "cell_type": "markdown",
   "id": "1d62b524",
   "metadata": {},
   "source": [
    "The first function obtains the first element of the entered input. The second function obtains the second element of the entered input.\n",
    "\n",
    "We conveniently apply these functions to each list within the obtained list using the `map` function to obtain the required lists."
   ]
  },
  {
   "cell_type": "code",
   "execution_count": 18,
   "id": "5f2bf9bb",
   "metadata": {},
   "outputs": [
    {
     "name": "stdout",
     "output_type": "stream",
     "text": [
      "[' CHRISTIAN SANTOS', ' CRISTIAN NASSER', ' ANGELICA KARINA', ' JOSE ROBERTO', ' ABEL FERNANDO', ' MEIR ALVARO', ' JOSELIN ALEXANDRA', ' LEONEL ARTURO', ' JOSE FELIPE', ' AFRANIA', ' BIANCA MARIETTE', ' ADRIAN ANDRE', ' DORKAS YOMIRA JHERMY', ' LADY ALY', ' HECTOR ANDRE', ' GUSTAVO', ' PERSEO MARCELO', ' MIGUEL ALONZO', ' NICOLAS', ' ROCIO GABRIELA', ' JANE CAMILA', ' MARIA ELISA', ' ALEJANDRO', ' KARLINE ROSMELI', ' STEPHY ROSARIO', ' VALERIA CECILIA', ' SEBASTIAN RENATO', ' JUAN CARLOS', ' MARIANA', ' ANDREA BRIZETH', ' ERICK JOSUE', ' JOSUE DANIEL', ' FABIO MANUEL', ' FERNANDA NICOLLE', ' ANGELA ADELINA', ' CESAR DANTE', ' GABRIELA ISABEL', ' ANGEL MAURICIO', ' JUAN DIEGO', ' ARONE', ' PERCY ALBERTH', ' KEVIN ARTURO', ' CESAR ERNESTO', ' CÉSAR AGUSTO', ' DIANA EDITH', ' RODRIGO FRANCO', ' GRETTEL ALEXANDRA', ' ROSA ANGELA', ' DANTE OMAR', ' YAJAIRA ALEXANDRA', ' JORGE ALBERTO', ' ALEXIS']\n"
     ]
    }
   ],
   "source": [
    "names=list(map(get_second,last_and_name_1))    \n",
    "last_names=list(map(get_first,last_and_name_1))     \n",
    "\n",
    "print(names)"
   ]
  },
  {
   "cell_type": "markdown",
   "id": "ec806dab",
   "metadata": {},
   "source": [
    "You can see `names` only contains the first names."
   ]
  },
  {
   "cell_type": "code",
   "execution_count": 19,
   "id": "96fc1450",
   "metadata": {},
   "outputs": [
    {
     "name": "stdout",
     "output_type": "stream",
     "text": [
      "['CORNEJO SANCHEZ', 'ORELLANA QUISPE', 'MORALES CHOQUEHUANCA', 'GUIMARAY RIBEYRO', 'CAMACHO GAVIDIA', 'TINTAYA ORIHUELA', 'CHAVEZ MARTINEZ', 'FIGUEROA MURO', 'GOMEZ CRIBILLERO', 'PALOMINO SEGUÍN', 'LUZON CUEVA', 'SUAÑA ZEGARRA', 'SOTO POMACHAGUA', 'FIORENTINO MARTINEZ', 'LAMA MAVILA', 'MEZA HINOJO', 'LOZADA MURILLO', 'ZAMBRANO JIMENEZ', 'JACOBS LUQUE', 'VIDAL VIDAL', 'TORRES ANICAMA', 'LOPEZ ESTRADA', 'BOYCO ORAMS', 'DIAZ BERROSPI', 'RIEGA ESCALANTE', 'LEVANO TORRES', 'ESQUIVES BRAVO', 'PEREZ GONZALES', 'OTERO MAGUIÑA', 'CLAVO CAMPOS', 'AGUILAR GARCIA', 'CALDAS VELASQUEZ', 'SALAS NUÑEZ BORJA', 'PIZARRO VILLANES', 'QUILLATUPA MORALES', 'HUANCAYA IDONE', 'CALVO PORTOCARRERO', 'IBAÑEZ ABANTO', 'MELÉNDEZ APONTE', 'CRISTIAN SERRANO', 'HINOJOSA CAHUANA', 'ANGLAS GARCÍA', 'ALDAVE ACOSTA', 'NÚÑEZ HUAMÁN', 'OBREGON HUAMAN', 'SOTO PACHERRES', 'INGARUCA RIVERA', 'ROJAS HUAMAN', 'NEYRA SALAS', 'HUERTA ESPINOZA', 'HUANCA MARTINEZ', 'FLORES CADILLO']\n"
     ]
    }
   ],
   "source": [
    "print(last_names)"
   ]
  },
  {
   "cell_type": "markdown",
   "id": "07345a15",
   "metadata": {},
   "source": [
    "You can see `last_names` only contains the last names.\n",
    "\n",
    "8. Give only the last names of students who do not have email. Use the `emails` and `last_names` list. **Hint: Use `map` and `split`.**\n",
    "\n",
    "We define the following function:"
   ]
  },
  {
   "cell_type": "code",
   "execution_count": 20,
   "id": "dabce6bd",
   "metadata": {},
   "outputs": [],
   "source": [
    "def without_email(x):\n",
    "    y=x[0]==\"\"\n",
    "    return y"
   ]
  },
  {
   "cell_type": "markdown",
   "id": "ef7aa428",
   "metadata": {},
   "source": [
    "This function returns True when the first element of `x` is equal to `\"\"`, False otherwise.\n",
    "\n",
    "Now, with the `zip` function we join each last name with its respective email address in a tuple (it must be specified that `zip` joins into tuples each element of two lists that have the same numerical position or index). Then with the `filter` function we apply the `without_email` function to each created tuple. In this case `filter` will only keep those elements or tuples that have obtained True when applying the function introduced in the first argument. And let's remember that this function would only return True if the first element of the tuple (being the email) is equal to `\"\"`. Therefore, with this command we identify the tuples of those students who do not have an email address.\n",
    "\n",
    "Finally, to create the required list we collect the student's last name from the filtered tuples. For this we use the `map` function with which we apply the `get_second` function to each tuple (which we remember returns the second element of the entered input). In this way we collected the requested last names in the `last_names_without_email` list. With this we collect the last name contained in each tuple and then save it in the `last_names_without_email` list."
   ]
  },
  {
   "cell_type": "code",
   "execution_count": 21,
   "id": "5223f7fd",
   "metadata": {},
   "outputs": [
    {
     "name": "stdout",
     "output_type": "stream",
     "text": [
      "['HUANCAYA IDONE', 'CALVO PORTOCARRERO', 'IBAÑEZ ABANTO', 'MELÉNDEZ APONTE', 'CRISTIAN SERRANO', 'ANGLAS GARCÍA', 'ALDAVE ACOSTA', 'NÚÑEZ HUAMÁN', 'OBREGON HUAMAN', 'SOTO PACHERRES', 'INGARUCA RIVERA', 'ROJAS HUAMAN', 'NEYRA SALAS', 'HUERTA ESPINOZA', 'HUANCA MARTINEZ']\n"
     ]
    }
   ],
   "source": [
    "z=zip(emails,last_names)\n",
    "students_without_email = filter(without_email,z)\n",
    "\n",
    "last_names_without_email = list(map(get_second, students_without_email))\n",
    "\n",
    "print(last_names_without_email)"
   ]
  }
 ],
 "metadata": {
  "kernelspec": {
   "display_name": "Python 3 (ipykernel)",
   "language": "python",
   "name": "python3"
  },
  "language_info": {
   "codemirror_mode": {
    "name": "ipython",
    "version": 3
   },
   "file_extension": ".py",
   "mimetype": "text/x-python",
   "name": "python",
   "nbconvert_exporter": "python",
   "pygments_lexer": "ipython3",
   "version": "3.9.18"
  }
 },
 "nbformat": 4,
 "nbformat_minor": 5
}
